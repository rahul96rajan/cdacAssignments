{
 "cells": [
  {
   "cell_type": "markdown",
   "metadata": {},
   "source": [
    "### There are two sheets in the following data file. Each sheet contains data regarding the rank, rating and trend etc from two different agencies. The data in two sheets are not exactly same but somehow supplement to each other. Analyze the data, separately and try to extract the information hidden.\n",
    "<ins>For example:</ins>\n",
    "\n",
    "1. How the ranks of programming language are correlated to each other in two different dataset? \n",
    "2. First sheet have 28 languages while second sheet have 20 programming languages. On the basis of the correlation among the two sheets, can we predict the rank of language which is not listed in second sheet and vice versa? \n",
    "3. On the basis of trend data, which language has better scope and worst and what will be the market share in next two year? \n",
    "4. On the basis of rank change and other information, can you predict that which language will be at first rank in year 2021? \n",
    "\n"
   ]
  },
  {
   "cell_type": "code",
   "execution_count": 35,
   "metadata": {},
   "outputs": [],
   "source": [
    "# Importing neccessary packages\n",
    "library(dplyr) \n",
    "library(readxl)\n",
    "options(scipen=999) "
   ]
  },
  {
   "cell_type": "code",
   "execution_count": 36,
   "metadata": {},
   "outputs": [],
   "source": [
    "# importing datasets\n",
    "xlsx_file_sh1 <- read_excel('R_assignment3_data.xlsx',sheet=1)\n",
    "xlsx_file_sh2 <- read_excel('R_assignment3_data.xlsx',sheet=2)"
   ]
  },
  {
   "cell_type": "code",
   "execution_count": 37,
   "metadata": {},
   "outputs": [],
   "source": [
    "## TODO \n",
    "temp_df = xlsx_file_sh2"
   ]
  },
  {
   "cell_type": "code",
   "execution_count": 38,
   "metadata": {},
   "outputs": [
    {
     "data": {
      "text/html": [
       "<table>\n",
       "<caption>A tibble: 6 × 4</caption>\n",
       "<thead>\n",
       "\t<tr><th scope=col>Rank</th><th scope=col>Language</th><th scope=col>Share</th><th scope=col>Trend</th></tr>\n",
       "\t<tr><th scope=col>&lt;dbl&gt;</th><th scope=col>&lt;chr&gt;</th><th scope=col>&lt;chr&gt;</th><th scope=col>&lt;chr&gt;</th></tr>\n",
       "</thead>\n",
       "<tbody>\n",
       "\t<tr><td>1</td><td>Python    </td><td>31.56 %</td><td>2.8999999999999998E-2 </td></tr>\n",
       "\t<tr><td>2</td><td>Java      </td><td>16.4 % </td><td>-3.1 %                </td></tr>\n",
       "\t<tr><td>3</td><td>Javascript</td><td>8.38 % </td><td>3.0000000000000001E-3 </td></tr>\n",
       "\t<tr><td>4</td><td>C#        </td><td>6.5 %  </td><td>-8.0000000000000002E-3</td></tr>\n",
       "\t<tr><td>5</td><td>PHP       </td><td>5.85 % </td><td>-0.5 %                </td></tr>\n",
       "\t<tr><td>6</td><td>C/C++     </td><td>5.8 %  </td><td>0                     </td></tr>\n",
       "</tbody>\n",
       "</table>\n"
      ],
      "text/latex": [
       "A tibble: 6 × 4\n",
       "\\begin{tabular}{llll}\n",
       " Rank & Language & Share & Trend\\\\\n",
       " <dbl> & <chr> & <chr> & <chr>\\\\\n",
       "\\hline\n",
       "\t 1 & Python     & 31.56 \\% & 2.8999999999999998E-2 \\\\\n",
       "\t 2 & Java       & 16.4 \\%  & -3.1 \\%                \\\\\n",
       "\t 3 & Javascript & 8.38 \\%  & 3.0000000000000001E-3 \\\\\n",
       "\t 4 & C\\#         & 6.5 \\%   & -8.0000000000000002E-3\\\\\n",
       "\t 5 & PHP        & 5.85 \\%  & -0.5 \\%                \\\\\n",
       "\t 6 & C/C++      & 5.8 \\%   & 0                     \\\\\n",
       "\\end{tabular}\n"
      ],
      "text/markdown": [
       "\n",
       "A tibble: 6 × 4\n",
       "\n",
       "| Rank &lt;dbl&gt; | Language &lt;chr&gt; | Share &lt;chr&gt; | Trend &lt;chr&gt; |\n",
       "|---|---|---|---|\n",
       "| 1 | Python     | 31.56 % | 2.8999999999999998E-2  |\n",
       "| 2 | Java       | 16.4 %  | -3.1 %                 |\n",
       "| 3 | Javascript | 8.38 %  | 3.0000000000000001E-3  |\n",
       "| 4 | C#         | 6.5 %   | -8.0000000000000002E-3 |\n",
       "| 5 | PHP        | 5.85 %  | -0.5 %                 |\n",
       "| 6 | C/C++      | 5.8 %   | 0                      |\n",
       "\n"
      ],
      "text/plain": [
       "  Rank Language   Share   Trend                 \n",
       "1 1    Python     31.56 % 2.8999999999999998E-2 \n",
       "2 2    Java       16.4 %  -3.1 %                \n",
       "3 3    Javascript 8.38 %  3.0000000000000001E-3 \n",
       "4 4    C#         6.5 %   -8.0000000000000002E-3\n",
       "5 5    PHP        5.85 %  -0.5 %                \n",
       "6 6    C/C++      5.8 %   0                     "
      ]
     },
     "metadata": {},
     "output_type": "display_data"
    },
    {
     "data": {
      "text/html": [
       "<table>\n",
       "<caption>A tibble: 6 × 5</caption>\n",
       "<thead>\n",
       "\t<tr><th scope=col>44075</th><th scope=col>43709</th><th scope=col>Programming Language</th><th scope=col>Ratings</th><th scope=col>Change</th></tr>\n",
       "\t<tr><th scope=col>&lt;dbl&gt;</th><th scope=col>&lt;dbl&gt;</th><th scope=col>&lt;chr&gt;</th><th scope=col>&lt;dbl&gt;</th><th scope=col>&lt;dbl&gt;</th></tr>\n",
       "</thead>\n",
       "<tbody>\n",
       "\t<tr><td>1</td><td>2</td><td>C           </td><td>0.1595</td><td> 0.0074</td></tr>\n",
       "\t<tr><td>2</td><td>1</td><td>Java        </td><td>0.1348</td><td>-0.0318</td></tr>\n",
       "\t<tr><td>3</td><td>3</td><td>Python      </td><td>0.1047</td><td> 0.0059</td></tr>\n",
       "\t<tr><td>4</td><td>4</td><td>C++         </td><td>0.0711</td><td> 0.0148</td></tr>\n",
       "\t<tr><td>5</td><td>5</td><td>C#          </td><td>0.0458</td><td> 0.0118</td></tr>\n",
       "\t<tr><td>6</td><td>6</td><td>Visual Basic</td><td>0.0412</td><td> 0.0083</td></tr>\n",
       "</tbody>\n",
       "</table>\n"
      ],
      "text/latex": [
       "A tibble: 6 × 5\n",
       "\\begin{tabular}{lllll}\n",
       " 44075 & 43709 & Programming Language & Ratings & Change\\\\\n",
       " <dbl> & <dbl> & <chr> & <dbl> & <dbl>\\\\\n",
       "\\hline\n",
       "\t 1 & 2 & C            & 0.1595 &  0.0074\\\\\n",
       "\t 2 & 1 & Java         & 0.1348 & -0.0318\\\\\n",
       "\t 3 & 3 & Python       & 0.1047 &  0.0059\\\\\n",
       "\t 4 & 4 & C++          & 0.0711 &  0.0148\\\\\n",
       "\t 5 & 5 & C\\#           & 0.0458 &  0.0118\\\\\n",
       "\t 6 & 6 & Visual Basic & 0.0412 &  0.0083\\\\\n",
       "\\end{tabular}\n"
      ],
      "text/markdown": [
       "\n",
       "A tibble: 6 × 5\n",
       "\n",
       "| 44075 &lt;dbl&gt; | 43709 &lt;dbl&gt; | Programming Language &lt;chr&gt; | Ratings &lt;dbl&gt; | Change &lt;dbl&gt; |\n",
       "|---|---|---|---|---|\n",
       "| 1 | 2 | C            | 0.1595 |  0.0074 |\n",
       "| 2 | 1 | Java         | 0.1348 | -0.0318 |\n",
       "| 3 | 3 | Python       | 0.1047 |  0.0059 |\n",
       "| 4 | 4 | C++          | 0.0711 |  0.0148 |\n",
       "| 5 | 5 | C#           | 0.0458 |  0.0118 |\n",
       "| 6 | 6 | Visual Basic | 0.0412 |  0.0083 |\n",
       "\n"
      ],
      "text/plain": [
       "  44075 43709 Programming Language Ratings Change \n",
       "1 1     2     C                    0.1595   0.0074\n",
       "2 2     1     Java                 0.1348  -0.0318\n",
       "3 3     3     Python               0.1047   0.0059\n",
       "4 4     4     C++                  0.0711   0.0148\n",
       "5 5     5     C#                   0.0458   0.0118\n",
       "6 6     6     Visual Basic         0.0412   0.0083"
      ]
     },
     "metadata": {},
     "output_type": "display_data"
    }
   ],
   "source": [
    "head(xlsx_file_sh1)\n",
    "head(xlsx_file_sh2)"
   ]
  },
  {
   "cell_type": "code",
   "execution_count": 39,
   "metadata": {},
   "outputs": [],
   "source": [
    "# Function to remove % symbol from the given string.\n",
    "remove_percentage <- function(val){\n",
    "    return(gsub(\"%\", \"\", val))\n",
    "}"
   ]
  },
  {
   "cell_type": "code",
   "execution_count": 40,
   "metadata": {},
   "outputs": [],
   "source": [
    "xlsx_file_sh1 <- xlsx_file_sh1 %>% \n",
    "                 mutate(Trend = as.numeric(lapply(Trend, remove_percentage)), \n",
    "                        Share = as.numeric(lapply(Share, remove_percentage)))"
   ]
  },
  {
   "cell_type": "code",
   "execution_count": 41,
   "metadata": {},
   "outputs": [
    {
     "data": {
      "text/html": [
       "<table>\n",
       "<caption>A tibble: 6 × 4</caption>\n",
       "<thead>\n",
       "\t<tr><th scope=col>Rank</th><th scope=col>Language</th><th scope=col>Share</th><th scope=col>Trend</th></tr>\n",
       "\t<tr><th scope=col>&lt;dbl&gt;</th><th scope=col>&lt;chr&gt;</th><th scope=col>&lt;dbl&gt;</th><th scope=col>&lt;dbl&gt;</th></tr>\n",
       "</thead>\n",
       "<tbody>\n",
       "\t<tr><td>1</td><td>Python    </td><td>31.56</td><td> 0.029</td></tr>\n",
       "\t<tr><td>2</td><td>Java      </td><td>16.40</td><td>-3.100</td></tr>\n",
       "\t<tr><td>3</td><td>Javascript</td><td> 8.38</td><td> 0.003</td></tr>\n",
       "\t<tr><td>4</td><td>C#        </td><td> 6.50</td><td>-0.008</td></tr>\n",
       "\t<tr><td>5</td><td>PHP       </td><td> 5.85</td><td>-0.500</td></tr>\n",
       "\t<tr><td>6</td><td>C/C++     </td><td> 5.80</td><td> 0.000</td></tr>\n",
       "</tbody>\n",
       "</table>\n"
      ],
      "text/latex": [
       "A tibble: 6 × 4\n",
       "\\begin{tabular}{llll}\n",
       " Rank & Language & Share & Trend\\\\\n",
       " <dbl> & <chr> & <dbl> & <dbl>\\\\\n",
       "\\hline\n",
       "\t 1 & Python     & 31.56 &  0.029\\\\\n",
       "\t 2 & Java       & 16.40 & -3.100\\\\\n",
       "\t 3 & Javascript &  8.38 &  0.003\\\\\n",
       "\t 4 & C\\#         &  6.50 & -0.008\\\\\n",
       "\t 5 & PHP        &  5.85 & -0.500\\\\\n",
       "\t 6 & C/C++      &  5.80 &  0.000\\\\\n",
       "\\end{tabular}\n"
      ],
      "text/markdown": [
       "\n",
       "A tibble: 6 × 4\n",
       "\n",
       "| Rank &lt;dbl&gt; | Language &lt;chr&gt; | Share &lt;dbl&gt; | Trend &lt;dbl&gt; |\n",
       "|---|---|---|---|\n",
       "| 1 | Python     | 31.56 |  0.029 |\n",
       "| 2 | Java       | 16.40 | -3.100 |\n",
       "| 3 | Javascript |  8.38 |  0.003 |\n",
       "| 4 | C#         |  6.50 | -0.008 |\n",
       "| 5 | PHP        |  5.85 | -0.500 |\n",
       "| 6 | C/C++      |  5.80 |  0.000 |\n",
       "\n"
      ],
      "text/plain": [
       "  Rank Language   Share Trend \n",
       "1 1    Python     31.56  0.029\n",
       "2 2    Java       16.40 -3.100\n",
       "3 3    Javascript  8.38  0.003\n",
       "4 4    C#          6.50 -0.008\n",
       "5 5    PHP         5.85 -0.500\n",
       "6 6    C/C++       5.80  0.000"
      ]
     },
     "metadata": {},
     "output_type": "display_data"
    }
   ],
   "source": [
    "# DataFrame after removing the '%''\n",
    "head(xlsx_file_sh1)"
   ]
  },
  {
   "cell_type": "code",
   "execution_count": 42,
   "metadata": {},
   "outputs": [
    {
     "data": {
      "text/html": [
       "<style>\n",
       ".list-inline {list-style: none; margin:0; padding: 0}\n",
       ".list-inline>li {display: inline-block}\n",
       ".list-inline>li:not(:last-child)::after {content: \"\\00b7\"; padding: 0 .5ex}\n",
       "</style>\n",
       "<ol class=list-inline><li>'44075'</li><li>'43709'</li><li>'Programming Language'</li><li>'Ratings'</li><li>'Change'</li></ol>\n"
      ],
      "text/latex": [
       "\\begin{enumerate*}\n",
       "\\item '44075'\n",
       "\\item '43709'\n",
       "\\item 'Programming Language'\n",
       "\\item 'Ratings'\n",
       "\\item 'Change'\n",
       "\\end{enumerate*}\n"
      ],
      "text/markdown": [
       "1. '44075'\n",
       "2. '43709'\n",
       "3. 'Programming Language'\n",
       "4. 'Ratings'\n",
       "5. 'Change'\n",
       "\n",
       "\n"
      ],
      "text/plain": [
       "[1] \"44075\"                \"43709\"                \"Programming Language\"\n",
       "[4] \"Ratings\"              \"Change\"              "
      ]
     },
     "metadata": {},
     "output_type": "display_data"
    }
   ],
   "source": [
    "names(xlsx_file_sh2)"
   ]
  },
  {
   "cell_type": "code",
   "execution_count": 43,
   "metadata": {},
   "outputs": [],
   "source": [
    "# Droping ranking columns from sheet 2 dataset\n",
    "xlsx_file_sh2 <- xlsx_file_sh2[ , !(names(xlsx_file_sh2) %in% c('43709', '44075'))]\n",
    "xlsx_file_sh1 <- xlsx_file_sh1[ , !(names(xlsx_file_sh1) %in% c('Rank'))]"
   ]
  },
  {
   "cell_type": "code",
   "execution_count": 44,
   "metadata": {},
   "outputs": [
    {
     "data": {
      "text/html": [
       "<table>\n",
       "<caption>A tibble: 3 × 3</caption>\n",
       "<thead>\n",
       "\t<tr><th scope=col>Language</th><th scope=col>Share</th><th scope=col>Trend</th></tr>\n",
       "\t<tr><th scope=col>&lt;chr&gt;</th><th scope=col>&lt;dbl&gt;</th><th scope=col>&lt;dbl&gt;</th></tr>\n",
       "</thead>\n",
       "<tbody>\n",
       "\t<tr><td>Python    </td><td>31.56</td><td> 0.029</td></tr>\n",
       "\t<tr><td>Java      </td><td>16.40</td><td>-3.100</td></tr>\n",
       "\t<tr><td>Javascript</td><td> 8.38</td><td> 0.003</td></tr>\n",
       "</tbody>\n",
       "</table>\n"
      ],
      "text/latex": [
       "A tibble: 3 × 3\n",
       "\\begin{tabular}{lll}\n",
       " Language & Share & Trend\\\\\n",
       " <chr> & <dbl> & <dbl>\\\\\n",
       "\\hline\n",
       "\t Python     & 31.56 &  0.029\\\\\n",
       "\t Java       & 16.40 & -3.100\\\\\n",
       "\t Javascript &  8.38 &  0.003\\\\\n",
       "\\end{tabular}\n"
      ],
      "text/markdown": [
       "\n",
       "A tibble: 3 × 3\n",
       "\n",
       "| Language &lt;chr&gt; | Share &lt;dbl&gt; | Trend &lt;dbl&gt; |\n",
       "|---|---|---|\n",
       "| Python     | 31.56 |  0.029 |\n",
       "| Java       | 16.40 | -3.100 |\n",
       "| Javascript |  8.38 |  0.003 |\n",
       "\n"
      ],
      "text/plain": [
       "  Language   Share Trend \n",
       "1 Python     31.56  0.029\n",
       "2 Java       16.40 -3.100\n",
       "3 Javascript  8.38  0.003"
      ]
     },
     "metadata": {},
     "output_type": "display_data"
    },
    {
     "data": {
      "text/html": [
       "<table>\n",
       "<caption>A tibble: 3 × 3</caption>\n",
       "<thead>\n",
       "\t<tr><th scope=col>Programming Language</th><th scope=col>Ratings</th><th scope=col>Change</th></tr>\n",
       "\t<tr><th scope=col>&lt;chr&gt;</th><th scope=col>&lt;dbl&gt;</th><th scope=col>&lt;dbl&gt;</th></tr>\n",
       "</thead>\n",
       "<tbody>\n",
       "\t<tr><td>C     </td><td>0.1595</td><td> 0.0074</td></tr>\n",
       "\t<tr><td>Java  </td><td>0.1348</td><td>-0.0318</td></tr>\n",
       "\t<tr><td>Python</td><td>0.1047</td><td> 0.0059</td></tr>\n",
       "</tbody>\n",
       "</table>\n"
      ],
      "text/latex": [
       "A tibble: 3 × 3\n",
       "\\begin{tabular}{lll}\n",
       " Programming Language & Ratings & Change\\\\\n",
       " <chr> & <dbl> & <dbl>\\\\\n",
       "\\hline\n",
       "\t C      & 0.1595 &  0.0074\\\\\n",
       "\t Java   & 0.1348 & -0.0318\\\\\n",
       "\t Python & 0.1047 &  0.0059\\\\\n",
       "\\end{tabular}\n"
      ],
      "text/markdown": [
       "\n",
       "A tibble: 3 × 3\n",
       "\n",
       "| Programming Language &lt;chr&gt; | Ratings &lt;dbl&gt; | Change &lt;dbl&gt; |\n",
       "|---|---|---|\n",
       "| C      | 0.1595 |  0.0074 |\n",
       "| Java   | 0.1348 | -0.0318 |\n",
       "| Python | 0.1047 |  0.0059 |\n",
       "\n"
      ],
      "text/plain": [
       "  Programming Language Ratings Change \n",
       "1 C                    0.1595   0.0074\n",
       "2 Java                 0.1348  -0.0318\n",
       "3 Python               0.1047   0.0059"
      ]
     },
     "metadata": {},
     "output_type": "display_data"
    }
   ],
   "source": [
    "head(xlsx_file_sh1, 3)\n",
    "head(xlsx_file_sh2, 3)"
   ]
  },
  {
   "cell_type": "code",
   "execution_count": 45,
   "metadata": {},
   "outputs": [
    {
     "data": {
      "text/html": [
       "0.137437647676556"
      ],
      "text/latex": [
       "0.137437647676556"
      ],
      "text/markdown": [
       "0.137437647676556"
      ],
      "text/plain": [
       "[1] 0.1374376"
      ]
     },
     "metadata": {},
     "output_type": "display_data"
    }
   ],
   "source": [
    "0.1047/sum(xlsx_file_sh2$Ratings)"
   ]
  },
  {
   "cell_type": "code",
   "execution_count": 46,
   "metadata": {},
   "outputs": [
    {
     "data": {
      "text/html": [
       "0.32178076493283"
      ],
      "text/latex": [
       "0.32178076493283"
      ],
      "text/markdown": [
       "0.32178076493283"
      ],
      "text/plain": [
       "[1] 0.3217808"
      ]
     },
     "metadata": {},
     "output_type": "display_data"
    }
   ],
   "source": [
    "31.56/sum(xlsx_file_sh1$Share)"
   ]
  },
  {
   "cell_type": "markdown",
   "metadata": {},
   "source": [
    "### Combining both datasets into one on th basis of assumptions and domain understanding:\n",
    "1. Trend and Change seems to be the same thing. We will combine both, for lang having both Trend and Change we will take arithmetic means and keep same if only one is present.\n",
    "2. Share and Rating signifies popularity amongst developer. So will combine this using the similar aproach as in Trend-Change.\n",
    "3. And drop rank column since rank is decided based on popularity itself.\n"
   ]
  },
  {
   "cell_type": "code",
   "execution_count": 47,
   "metadata": {},
   "outputs": [
    {
     "name": "stdout",
     "output_type": "stream",
     "text": [
      ":: Sheet 1 Languages ::"
     ]
    },
    {
     "data": {
      "text/html": [
       "<style>\n",
       ".list-inline {list-style: none; margin:0; padding: 0}\n",
       ".list-inline>li {display: inline-block}\n",
       ".list-inline>li:not(:last-child)::after {content: \"\\00b7\"; padding: 0 .5ex}\n",
       "</style>\n",
       "<ol class=list-inline><li>'Python'</li><li>'Java'</li><li>'Javascript'</li><li>'C#'</li><li>'PHP'</li><li>'C/C++'</li><li>'R'</li><li>'Objective-C'</li><li>'Swift'</li><li>'TypeScript'</li><li>'Matlab'</li><li>'Kotlin'</li><li>'Go'</li><li>'Ruby'</li><li>'VBA'</li><li>'Rust'</li><li>'Scala'</li><li>'Visual Basic'</li><li>'Lua'</li><li>'Dart'</li><li>'Ada'</li><li>'Perl'</li><li>'Groovy'</li><li>'Julia'</li><li>'Cobol'</li><li>'Abap'</li><li>'Delphi'</li><li>'Haskell'</li></ol>\n"
      ],
      "text/latex": [
       "\\begin{enumerate*}\n",
       "\\item 'Python'\n",
       "\\item 'Java'\n",
       "\\item 'Javascript'\n",
       "\\item 'C\\#'\n",
       "\\item 'PHP'\n",
       "\\item 'C/C++'\n",
       "\\item 'R'\n",
       "\\item 'Objective-C'\n",
       "\\item 'Swift'\n",
       "\\item 'TypeScript'\n",
       "\\item 'Matlab'\n",
       "\\item 'Kotlin'\n",
       "\\item 'Go'\n",
       "\\item 'Ruby'\n",
       "\\item 'VBA'\n",
       "\\item 'Rust'\n",
       "\\item 'Scala'\n",
       "\\item 'Visual Basic'\n",
       "\\item 'Lua'\n",
       "\\item 'Dart'\n",
       "\\item 'Ada'\n",
       "\\item 'Perl'\n",
       "\\item 'Groovy'\n",
       "\\item 'Julia'\n",
       "\\item 'Cobol'\n",
       "\\item 'Abap'\n",
       "\\item 'Delphi'\n",
       "\\item 'Haskell'\n",
       "\\end{enumerate*}\n"
      ],
      "text/markdown": [
       "1. 'Python'\n",
       "2. 'Java'\n",
       "3. 'Javascript'\n",
       "4. 'C#'\n",
       "5. 'PHP'\n",
       "6. 'C/C++'\n",
       "7. 'R'\n",
       "8. 'Objective-C'\n",
       "9. 'Swift'\n",
       "10. 'TypeScript'\n",
       "11. 'Matlab'\n",
       "12. 'Kotlin'\n",
       "13. 'Go'\n",
       "14. 'Ruby'\n",
       "15. 'VBA'\n",
       "16. 'Rust'\n",
       "17. 'Scala'\n",
       "18. 'Visual Basic'\n",
       "19. 'Lua'\n",
       "20. 'Dart'\n",
       "21. 'Ada'\n",
       "22. 'Perl'\n",
       "23. 'Groovy'\n",
       "24. 'Julia'\n",
       "25. 'Cobol'\n",
       "26. 'Abap'\n",
       "27. 'Delphi'\n",
       "28. 'Haskell'\n",
       "\n",
       "\n"
      ],
      "text/plain": [
       " [1] \"Python\"       \"Java\"         \"Javascript\"   \"C#\"           \"PHP\"         \n",
       " [6] \"C/C++\"        \"R\"            \"Objective-C\"  \"Swift\"        \"TypeScript\"  \n",
       "[11] \"Matlab\"       \"Kotlin\"       \"Go\"           \"Ruby\"         \"VBA\"         \n",
       "[16] \"Rust\"         \"Scala\"        \"Visual Basic\" \"Lua\"          \"Dart\"        \n",
       "[21] \"Ada\"          \"Perl\"         \"Groovy\"       \"Julia\"        \"Cobol\"       \n",
       "[26] \"Abap\"         \"Delphi\"       \"Haskell\"     "
      ]
     },
     "metadata": {},
     "output_type": "display_data"
    },
    {
     "name": "stdout",
     "output_type": "stream",
     "text": [
      "-------------------------------------------------------------------\n",
      ":: Sheet 2 Languages ::"
     ]
    },
    {
     "data": {
      "text/html": [
       "<style>\n",
       ".list-inline {list-style: none; margin:0; padding: 0}\n",
       ".list-inline>li {display: inline-block}\n",
       ".list-inline>li:not(:last-child)::after {content: \"\\00b7\"; padding: 0 .5ex}\n",
       "</style>\n",
       "<ol class=list-inline><li>'C'</li><li>'Java'</li><li>'Python'</li><li>'C++'</li><li>'C#'</li><li>'Visual Basic'</li><li>'JavaScript'</li><li>'PHP'</li><li>'R'</li><li>'SQL'</li><li>'Go'</li><li>'Swift'</li><li>'Perl'</li><li>'Assembly language'</li><li>'Ruby'</li><li>'MATLAB'</li><li>'Groovy'</li><li>'Rust'</li><li>'Objective-C'</li><li>'Dart'</li></ol>\n"
      ],
      "text/latex": [
       "\\begin{enumerate*}\n",
       "\\item 'C'\n",
       "\\item 'Java'\n",
       "\\item 'Python'\n",
       "\\item 'C++'\n",
       "\\item 'C\\#'\n",
       "\\item 'Visual Basic'\n",
       "\\item 'JavaScript'\n",
       "\\item 'PHP'\n",
       "\\item 'R'\n",
       "\\item 'SQL'\n",
       "\\item 'Go'\n",
       "\\item 'Swift'\n",
       "\\item 'Perl'\n",
       "\\item 'Assembly language'\n",
       "\\item 'Ruby'\n",
       "\\item 'MATLAB'\n",
       "\\item 'Groovy'\n",
       "\\item 'Rust'\n",
       "\\item 'Objective-C'\n",
       "\\item 'Dart'\n",
       "\\end{enumerate*}\n"
      ],
      "text/markdown": [
       "1. 'C'\n",
       "2. 'Java'\n",
       "3. 'Python'\n",
       "4. 'C++'\n",
       "5. 'C#'\n",
       "6. 'Visual Basic'\n",
       "7. 'JavaScript'\n",
       "8. 'PHP'\n",
       "9. 'R'\n",
       "10. 'SQL'\n",
       "11. 'Go'\n",
       "12. 'Swift'\n",
       "13. 'Perl'\n",
       "14. 'Assembly language'\n",
       "15. 'Ruby'\n",
       "16. 'MATLAB'\n",
       "17. 'Groovy'\n",
       "18. 'Rust'\n",
       "19. 'Objective-C'\n",
       "20. 'Dart'\n",
       "\n",
       "\n"
      ],
      "text/plain": [
       " [1] \"C\"                 \"Java\"              \"Python\"           \n",
       " [4] \"C++\"               \"C#\"                \"Visual Basic\"     \n",
       " [7] \"JavaScript\"        \"PHP\"               \"R\"                \n",
       "[10] \"SQL\"               \"Go\"                \"Swift\"            \n",
       "[13] \"Perl\"              \"Assembly language\" \"Ruby\"             \n",
       "[16] \"MATLAB\"            \"Groovy\"            \"Rust\"             \n",
       "[19] \"Objective-C\"       \"Dart\"             "
      ]
     },
     "metadata": {},
     "output_type": "display_data"
    },
    {
     "name": "stdout",
     "output_type": "stream",
     "text": [
      "-------------------------------------------------------------------\n",
      ":: Sheet (1+2) Languages ::"
     ]
    },
    {
     "data": {
      "text/html": [
       "<style>\n",
       ".list-inline {list-style: none; margin:0; padding: 0}\n",
       ".list-inline>li {display: inline-block}\n",
       ".list-inline>li:not(:last-child)::after {content: \"\\00b7\"; padding: 0 .5ex}\n",
       "</style>\n",
       "<ol class=list-inline><li>'Abap'</li><li>'Ada'</li><li>'Assembly language'</li><li>'C'</li><li>'C/C++'</li><li>'C#'</li><li>'C++'</li><li>'Cobol'</li><li>'Dart'</li><li>'Delphi'</li><li>'Go'</li><li>'Groovy'</li><li>'Haskell'</li><li>'Java'</li><li>'Javascript'</li><li>'JavaScript'</li><li>'Julia'</li><li>'Kotlin'</li><li>'Lua'</li><li>'Matlab'</li><li>'MATLAB'</li><li>'Objective-C'</li><li>'Perl'</li><li>'PHP'</li><li>'Python'</li><li>'R'</li><li>'Ruby'</li><li>'Rust'</li><li>'Scala'</li><li>'SQL'</li><li>'Swift'</li><li>'TypeScript'</li><li>'VBA'</li><li>'Visual Basic'</li></ol>\n"
      ],
      "text/latex": [
       "\\begin{enumerate*}\n",
       "\\item 'Abap'\n",
       "\\item 'Ada'\n",
       "\\item 'Assembly language'\n",
       "\\item 'C'\n",
       "\\item 'C/C++'\n",
       "\\item 'C\\#'\n",
       "\\item 'C++'\n",
       "\\item 'Cobol'\n",
       "\\item 'Dart'\n",
       "\\item 'Delphi'\n",
       "\\item 'Go'\n",
       "\\item 'Groovy'\n",
       "\\item 'Haskell'\n",
       "\\item 'Java'\n",
       "\\item 'Javascript'\n",
       "\\item 'JavaScript'\n",
       "\\item 'Julia'\n",
       "\\item 'Kotlin'\n",
       "\\item 'Lua'\n",
       "\\item 'Matlab'\n",
       "\\item 'MATLAB'\n",
       "\\item 'Objective-C'\n",
       "\\item 'Perl'\n",
       "\\item 'PHP'\n",
       "\\item 'Python'\n",
       "\\item 'R'\n",
       "\\item 'Ruby'\n",
       "\\item 'Rust'\n",
       "\\item 'Scala'\n",
       "\\item 'SQL'\n",
       "\\item 'Swift'\n",
       "\\item 'TypeScript'\n",
       "\\item 'VBA'\n",
       "\\item 'Visual Basic'\n",
       "\\end{enumerate*}\n"
      ],
      "text/markdown": [
       "1. 'Abap'\n",
       "2. 'Ada'\n",
       "3. 'Assembly language'\n",
       "4. 'C'\n",
       "5. 'C/C++'\n",
       "6. 'C#'\n",
       "7. 'C++'\n",
       "8. 'Cobol'\n",
       "9. 'Dart'\n",
       "10. 'Delphi'\n",
       "11. 'Go'\n",
       "12. 'Groovy'\n",
       "13. 'Haskell'\n",
       "14. 'Java'\n",
       "15. 'Javascript'\n",
       "16. 'JavaScript'\n",
       "17. 'Julia'\n",
       "18. 'Kotlin'\n",
       "19. 'Lua'\n",
       "20. 'Matlab'\n",
       "21. 'MATLAB'\n",
       "22. 'Objective-C'\n",
       "23. 'Perl'\n",
       "24. 'PHP'\n",
       "25. 'Python'\n",
       "26. 'R'\n",
       "27. 'Ruby'\n",
       "28. 'Rust'\n",
       "29. 'Scala'\n",
       "30. 'SQL'\n",
       "31. 'Swift'\n",
       "32. 'TypeScript'\n",
       "33. 'VBA'\n",
       "34. 'Visual Basic'\n",
       "\n",
       "\n"
      ],
      "text/plain": [
       " [1] \"Abap\"              \"Ada\"               \"Assembly language\"\n",
       " [4] \"C\"                 \"C/C++\"             \"C#\"               \n",
       " [7] \"C++\"               \"Cobol\"             \"Dart\"             \n",
       "[10] \"Delphi\"            \"Go\"                \"Groovy\"           \n",
       "[13] \"Haskell\"           \"Java\"              \"Javascript\"       \n",
       "[16] \"JavaScript\"        \"Julia\"             \"Kotlin\"           \n",
       "[19] \"Lua\"               \"Matlab\"            \"MATLAB\"           \n",
       "[22] \"Objective-C\"       \"Perl\"              \"PHP\"              \n",
       "[25] \"Python\"            \"R\"                 \"Ruby\"             \n",
       "[28] \"Rust\"              \"Scala\"             \"SQL\"              \n",
       "[31] \"Swift\"             \"TypeScript\"        \"VBA\"              \n",
       "[34] \"Visual Basic\"     "
      ]
     },
     "metadata": {},
     "output_type": "display_data"
    }
   ],
   "source": [
    "cat(':: Sheet 1 Languages ::')\n",
    "xlsx_file_sh1$Language\n",
    "cat('-------------------------------------------------------------------\\n')\n",
    "cat(':: Sheet 2 Languages ::')\n",
    "xlsx_file_sh2$`Programming Language`\n",
    "cat('-------------------------------------------------------------------\\n')\n",
    "cat(':: Sheet (1+2) Languages ::')\n",
    "sort(union(xlsx_file_sh1$Language, xlsx_file_sh2$`Programming Language`))"
   ]
  },
  {
   "cell_type": "markdown",
   "metadata": {},
   "source": [
    "### Here we see that:\n",
    "1. Javascript and Matlab will have duplicate entries if we merge-add both. So we will updated the names.\n",
    "2. Also in sheet 2 we see C and C++ we see two different entries. By domain knowledge we know C++ is a superset language of C.</br>So we will merge these two rows together to one row."
   ]
  },
  {
   "cell_type": "code",
   "execution_count": 48,
   "metadata": {},
   "outputs": [],
   "source": [
    "xlsx_file_sh2$`Programming Language`[16] = 'Matlab'\n",
    "xlsx_file_sh2$`Programming Language`[7] = 'Javascript'\n",
    "\n",
    "xlsx_file_sh2$`Programming Language`[1] = 'C/C++'\n",
    "xlsx_file_sh2$Ratings[1] = mean(c(xlsx_file_sh2$Ratings[1], xlsx_file_sh2$Ratings[4]))\n",
    "xlsx_file_sh2$Change[1] = mean(c(xlsx_file_sh2$Change[1], xlsx_file_sh2$Change[4]))\n",
    "\n",
    "# Droping C++ row\n",
    "xlsx_file_sh2 <- xlsx_file_sh2[-c(4), ]"
   ]
  },
  {
   "cell_type": "code",
   "execution_count": 49,
   "metadata": {},
   "outputs": [],
   "source": [
    "xlsx_file_sh2 <- xlsx_file_sh2[order(-xlsx_file_sh2$Ratings),]"
   ]
  },
  {
   "cell_type": "code",
   "execution_count": 50,
   "metadata": {},
   "outputs": [],
   "source": [
    "all_langs = union(xlsx_file_sh1$Language, xlsx_file_sh2$`Programming Language`)\n",
    "trend = c()\n",
    "popularity = c()"
   ]
  },
  {
   "cell_type": "code",
   "execution_count": 51,
   "metadata": {},
   "outputs": [
    {
     "data": {
      "text/html": [
       "30"
      ],
      "text/latex": [
       "30"
      ],
      "text/markdown": [
       "30"
      ],
      "text/plain": [
       "[1] 30"
      ]
     },
     "metadata": {},
     "output_type": "display_data"
    }
   ],
   "source": [
    "length(all_langs)"
   ]
  },
  {
   "cell_type": "code",
   "execution_count": 56,
   "metadata": {},
   "outputs": [],
   "source": [
    "# Acculmulating trend = (Trend+Change) & popularity = (Ratings+Change)\n",
    "\n",
    "sum_rating <- sum(xlsx_file_sh1$Share)\n",
    "sum_share <- sum(xlsx_file_sh2$Ratings)\n",
    "sum_trend <- sum(xlsx_file_sh1$Trend)\n",
    "sum_change <- sum(xlsx_file_sh2$Change)\n",
    "\n",
    "for(i in 1:length(all_langs)) {\n",
    "    if(all_langs[i] %in% xlsx_file_sh1$Language & all_langs[i] %in% xlsx_file_sh2$`Programming Language`){\n",
    "        shar = xlsx_file_sh1$Share[xlsx_file_sh1$Language==all_langs[i]]/sum_share\n",
    "        rate = xlsx_file_sh2$Ratings[xlsx_file_sh2$`Programming Language`==all_langs[i]]/sum_rating\n",
    "        popularity[i] <- mean(c(rate, shar))\n",
    "        \n",
    "        tren = xlsx_file_sh1$Trend[xlsx_file_sh1$Language==all_langs[i]]/sum_trend\n",
    "        chan = xlsx_file_sh2$Change[xlsx_file_sh2$`Programming Language`==all_langs[i]]/sum_change\n",
    "        trend[i] <- mean(c(tren, chan))\n",
    "        \n",
    "    }else if(all_langs[i] %in% xlsx_file_sh1$Language){\n",
    "        popularity[i] <- xlsx_file_sh1$Share[xlsx_file_sh1$Language==all_langs[i]]/sum_share\n",
    "        trend[i] <- xlsx_file_sh1$Trend[xlsx_file_sh1$Language==all_langs[i]]/sum_trend\n",
    "        \n",
    "    }else{\n",
    "        popularity[i] <- xlsx_file_sh2$Ratings[xlsx_file_sh2$`Programming Language`==all_langs[i]]/sum_rating\n",
    "        trend[i] <- xlsx_file_sh2$Change[xlsx_file_sh2$`Programming Language`==all_langs[i]]/sum_change\n",
    "    }\n",
    "}"
   ]
  },
  {
   "cell_type": "code",
   "execution_count": 97,
   "metadata": {},
   "outputs": [],
   "source": [
    "trend <- round(trend, digits = 3)*100\n",
    "popularity <- round(popularity, digits = 3)"
   ]
  },
  {
   "cell_type": "code",
   "execution_count": 99,
   "metadata": {},
   "outputs": [],
   "source": [
    "combine_df <- data.frame(all_langs, popularity, trend)\n",
    "combine_df <- combine_df[order(-combine_df$popularity),]\n",
    "# combine_df"
   ]
  },
  {
   "cell_type": "code",
   "execution_count": 100,
   "metadata": {},
   "outputs": [
    {
     "data": {
      "image/png": "[encoded data removed]",
      "text/plain": [
       "Plot with title “Popularity of Programming Languages”"
      ]
     },
     "metadata": {
      "image/png": {
       "height": 420,
       "width": 420
      }
     },
     "output_type": "display_data"
    }
   ],
   "source": [
    "pie(popularity, all_langs, main='Popularity of Programming Languages')"
   ]
  },
  {
   "cell_type": "code",
   "execution_count": 101,
   "metadata": {},
   "outputs": [],
   "source": [
    "categorizer <- function(val){\n",
    "                    if(val>0){\n",
    "                        return('positive')\n",
    "                    }else if(val<0){\n",
    "                        return('negative')\n",
    "                    }else{\n",
    "                        return('stable')\n",
    "                    }\n",
    "                }"
   ]
  },
  {
   "cell_type": "code",
   "execution_count": 102,
   "metadata": {},
   "outputs": [
    {
     "data": {
      "image/png": "[encoded data removed]",
      "text/plain": [
       "Plot with title “Trends in Programming Language”"
      ]
     },
     "metadata": {
      "image/png": {
       "height": 420,
       "width": 420
      }
     },
     "output_type": "display_data"
    }
   ],
   "source": [
    "barplot(table(unlist(lapply(combine_df$trend, categorizer))),\n",
    "        ylab='Frequency', main='Trends in Programming Language', col='thistle4')"
   ]
  },
  {
   "cell_type": "code",
   "execution_count": 103,
   "metadata": {},
   "outputs": [],
   "source": [
    "language_with_neg_trend = subset(combine_df, trend<0)\n",
    "language_with_pos_trend = subset(combine_df, trend>0)\n",
    "language_with_stable_trend = subset(combine_df, trend==0)"
   ]
  },
  {
   "cell_type": "code",
   "execution_count": 104,
   "metadata": {},
   "outputs": [
    {
     "data": {
      "text/html": [
       "<table>\n",
       "<caption>A data.frame: 8 × 3</caption>\n",
       "<thead>\n",
       "\t<tr><th></th><th scope=col>all_langs</th><th scope=col>popularity</th><th scope=col>trend</th></tr>\n",
       "\t<tr><th></th><th scope=col>&lt;chr&gt;</th><th scope=col>&lt;dbl&gt;</th><th scope=col>&lt;dbl&gt;</th></tr>\n",
       "</thead>\n",
       "<tbody>\n",
       "\t<tr><th scope=row>12</th><td>Kotlin    </td><td>2.490</td><td>0</td></tr>\n",
       "\t<tr><th scope=row>19</th><td>Lua       </td><td>0.897</td><td>0</td></tr>\n",
       "\t<tr><th scope=row>21</th><td>Ada       </td><td>0.804</td><td>0</td></tr>\n",
       "\t<tr><th scope=row>24</th><td>Julia     </td><td>0.712</td><td>0</td></tr>\n",
       "\t<tr><th scope=row>25</th><td>Cobol     </td><td>0.665</td><td>0</td></tr>\n",
       "\t<tr><th scope=row>27</th><td>Delphi    </td><td>0.480</td><td>0</td></tr>\n",
       "\t<tr><th scope=row>28</th><td>Haskell   </td><td>0.449</td><td>0</td></tr>\n",
       "\t<tr><th scope=row>10</th><td>TypeScript</td><td>0.030</td><td>0</td></tr>\n",
       "</tbody>\n",
       "</table>\n"
      ],
      "text/latex": [
       "A data.frame: 8 × 3\n",
       "\\begin{tabular}{r|lll}\n",
       "  & all\\_langs & popularity & trend\\\\\n",
       "  & <chr> & <dbl> & <dbl>\\\\\n",
       "\\hline\n",
       "\t12 & Kotlin     & 2.490 & 0\\\\\n",
       "\t19 & Lua        & 0.897 & 0\\\\\n",
       "\t21 & Ada        & 0.804 & 0\\\\\n",
       "\t24 & Julia      & 0.712 & 0\\\\\n",
       "\t25 & Cobol      & 0.665 & 0\\\\\n",
       "\t27 & Delphi     & 0.480 & 0\\\\\n",
       "\t28 & Haskell    & 0.449 & 0\\\\\n",
       "\t10 & TypeScript & 0.030 & 0\\\\\n",
       "\\end{tabular}\n"
      ],
      "text/markdown": [
       "\n",
       "A data.frame: 8 × 3\n",
       "\n",
       "| <!--/--> | all_langs &lt;chr&gt; | popularity &lt;dbl&gt; | trend &lt;dbl&gt; |\n",
       "|---|---|---|---|\n",
       "| 12 | Kotlin     | 2.490 | 0 |\n",
       "| 19 | Lua        | 0.897 | 0 |\n",
       "| 21 | Ada        | 0.804 | 0 |\n",
       "| 24 | Julia      | 0.712 | 0 |\n",
       "| 25 | Cobol      | 0.665 | 0 |\n",
       "| 27 | Delphi     | 0.480 | 0 |\n",
       "| 28 | Haskell    | 0.449 | 0 |\n",
       "| 10 | TypeScript | 0.030 | 0 |\n",
       "\n"
      ],
      "text/plain": [
       "   all_langs  popularity trend\n",
       "12 Kotlin     2.490      0    \n",
       "19 Lua        0.897      0    \n",
       "21 Ada        0.804      0    \n",
       "24 Julia      0.712      0    \n",
       "25 Cobol      0.665      0    \n",
       "27 Delphi     0.480      0    \n",
       "28 Haskell    0.449      0    \n",
       "10 TypeScript 0.030      0    "
      ]
     },
     "metadata": {},
     "output_type": "display_data"
    }
   ],
   "source": [
    "language_with_stable_trend"
   ]
  },
  {
   "cell_type": "code",
   "execution_count": 105,
   "metadata": {},
   "outputs": [
    {
     "data": {
      "text/html": [
       "<table>\n",
       "<caption>A data.frame: 17 × 3</caption>\n",
       "<thead>\n",
       "\t<tr><th></th><th scope=col>all_langs</th><th scope=col>popularity</th><th scope=col>trend</th></tr>\n",
       "\t<tr><th></th><th scope=col>&lt;chr&gt;</th><th scope=col>&lt;dbl&gt;</th><th scope=col>&lt;dbl&gt;</th></tr>\n",
       "</thead>\n",
       "<tbody>\n",
       "\t<tr><th scope=row>7</th><td>R           </td><td> 3.156</td><td>25.2</td></tr>\n",
       "\t<tr><th scope=row>4</th><td>C#          </td><td> 5.027</td><td>22.4</td></tr>\n",
       "\t<tr><th scope=row>6</th><td>C/C++       </td><td> 4.486</td><td>21.0</td></tr>\n",
       "\t<tr><th scope=row>18</th><td>Visual Basic</td><td> 0.611</td><td>17.9</td></tr>\n",
       "\t<tr><th scope=row>5</th><td>PHP         </td><td> 4.524</td><td>17.1</td></tr>\n",
       "\t<tr><th scope=row>1</th><td>Python      </td><td>24.409</td><td>10.9</td></tr>\n",
       "\t<tr><th scope=row>16</th><td>Rust        </td><td> 0.781</td><td>10.4</td></tr>\n",
       "\t<tr><th scope=row>3</th><td>Javascript  </td><td> 6.481</td><td> 7.7</td></tr>\n",
       "\t<tr><th scope=row>9</th><td>Swift       </td><td> 1.817</td><td> 6.4</td></tr>\n",
       "\t<tr><th scope=row>22</th><td>Perl        </td><td> 0.394</td><td> 4.9</td></tr>\n",
       "\t<tr><th scope=row>13</th><td>Go          </td><td> 1.114</td><td> 4.5</td></tr>\n",
       "\t<tr><th scope=row>15</th><td>VBA         </td><td> 1.794</td><td> 4.3</td></tr>\n",
       "\t<tr><th scope=row>17</th><td>Scala       </td><td> 1.438</td><td> 4.3</td></tr>\n",
       "\t<tr><th scope=row>14</th><td>Ruby        </td><td> 0.944</td><td> 2.7</td></tr>\n",
       "\t<tr><th scope=row>20</th><td>Dart        </td><td> 0.441</td><td> 2.4</td></tr>\n",
       "\t<tr><th scope=row>26</th><td>Abap        </td><td> 0.634</td><td> 2.1</td></tr>\n",
       "\t<tr><th scope=row>11</th><td>Matlab      </td><td> 1.276</td><td> 1.8</td></tr>\n",
       "</tbody>\n",
       "</table>\n"
      ],
      "text/latex": [
       "A data.frame: 17 × 3\n",
       "\\begin{tabular}{r|lll}\n",
       "  & all\\_langs & popularity & trend\\\\\n",
       "  & <chr> & <dbl> & <dbl>\\\\\n",
       "\\hline\n",
       "\t7 & R            &  3.156 & 25.2\\\\\n",
       "\t4 & C\\#           &  5.027 & 22.4\\\\\n",
       "\t6 & C/C++        &  4.486 & 21.0\\\\\n",
       "\t18 & Visual Basic &  0.611 & 17.9\\\\\n",
       "\t5 & PHP          &  4.524 & 17.1\\\\\n",
       "\t1 & Python       & 24.409 & 10.9\\\\\n",
       "\t16 & Rust         &  0.781 & 10.4\\\\\n",
       "\t3 & Javascript   &  6.481 &  7.7\\\\\n",
       "\t9 & Swift        &  1.817 &  6.4\\\\\n",
       "\t22 & Perl         &  0.394 &  4.9\\\\\n",
       "\t13 & Go           &  1.114 &  4.5\\\\\n",
       "\t15 & VBA          &  1.794 &  4.3\\\\\n",
       "\t17 & Scala        &  1.438 &  4.3\\\\\n",
       "\t14 & Ruby         &  0.944 &  2.7\\\\\n",
       "\t20 & Dart         &  0.441 &  2.4\\\\\n",
       "\t26 & Abap         &  0.634 &  2.1\\\\\n",
       "\t11 & Matlab       &  1.276 &  1.8\\\\\n",
       "\\end{tabular}\n"
      ],
      "text/markdown": [
       "\n",
       "A data.frame: 17 × 3\n",
       "\n",
       "| <!--/--> | all_langs &lt;chr&gt; | popularity &lt;dbl&gt; | trend &lt;dbl&gt; |\n",
       "|---|---|---|---|\n",
       "| 7 | R            |  3.156 | 25.2 |\n",
       "| 4 | C#           |  5.027 | 22.4 |\n",
       "| 6 | C/C++        |  4.486 | 21.0 |\n",
       "| 18 | Visual Basic |  0.611 | 17.9 |\n",
       "| 5 | PHP          |  4.524 | 17.1 |\n",
       "| 1 | Python       | 24.409 | 10.9 |\n",
       "| 16 | Rust         |  0.781 | 10.4 |\n",
       "| 3 | Javascript   |  6.481 |  7.7 |\n",
       "| 9 | Swift        |  1.817 |  6.4 |\n",
       "| 22 | Perl         |  0.394 |  4.9 |\n",
       "| 13 | Go           |  1.114 |  4.5 |\n",
       "| 15 | VBA          |  1.794 |  4.3 |\n",
       "| 17 | Scala        |  1.438 |  4.3 |\n",
       "| 14 | Ruby         |  0.944 |  2.7 |\n",
       "| 20 | Dart         |  0.441 |  2.4 |\n",
       "| 26 | Abap         |  0.634 |  2.1 |\n",
       "| 11 | Matlab       |  1.276 |  1.8 |\n",
       "\n"
      ],
      "text/plain": [
       "   all_langs    popularity trend\n",
       "7  R             3.156     25.2 \n",
       "4  C#            5.027     22.4 \n",
       "6  C/C++         4.486     21.0 \n",
       "18 Visual Basic  0.611     17.9 \n",
       "5  PHP           4.524     17.1 \n",
       "1  Python       24.409     10.9 \n",
       "16 Rust          0.781     10.4 \n",
       "3  Javascript    6.481      7.7 \n",
       "9  Swift         1.817      6.4 \n",
       "22 Perl          0.394      4.9 \n",
       "13 Go            1.114      4.5 \n",
       "15 VBA           1.794      4.3 \n",
       "17 Scala         1.438      4.3 \n",
       "14 Ruby          0.944      2.7 \n",
       "20 Dart          0.441      2.4 \n",
       "26 Abap          0.634      2.1 \n",
       "11 Matlab        1.276      1.8 "
      ]
     },
     "metadata": {},
     "output_type": "display_data"
    }
   ],
   "source": [
    "language_with_pos_trend[order(-language_with_pos_trend$trend),]"
   ]
  },
  {
   "cell_type": "code",
   "execution_count": 106,
   "metadata": {},
   "outputs": [
    {
     "data": {
      "text/html": [
       "<table>\n",
       "<caption>A data.frame: 5 × 3</caption>\n",
       "<thead>\n",
       "\t<tr><th></th><th scope=col>all_langs</th><th scope=col>popularity</th><th scope=col>trend</th></tr>\n",
       "\t<tr><th></th><th scope=col>&lt;chr&gt;</th><th scope=col>&lt;dbl&gt;</th><th scope=col>&lt;dbl&gt;</th></tr>\n",
       "</thead>\n",
       "<tbody>\n",
       "\t<tr><th scope=row>2</th><td>Java             </td><td>12.684</td><td>-26.9</td></tr>\n",
       "\t<tr><th scope=row>8</th><td>Objective-C      </td><td> 2.158</td><td>-18.8</td></tr>\n",
       "\t<tr><th scope=row>23</th><td>Groovy           </td><td> 0.356</td><td> -9.8</td></tr>\n",
       "\t<tr><th scope=row>29</th><td>SQL              </td><td> 0.000</td><td> -7.2</td></tr>\n",
       "\t<tr><th scope=row>30</th><td>Assembly language</td><td> 0.000</td><td> -3.0</td></tr>\n",
       "</tbody>\n",
       "</table>\n"
      ],
      "text/latex": [
       "A data.frame: 5 × 3\n",
       "\\begin{tabular}{r|lll}\n",
       "  & all\\_langs & popularity & trend\\\\\n",
       "  & <chr> & <dbl> & <dbl>\\\\\n",
       "\\hline\n",
       "\t2 & Java              & 12.684 & -26.9\\\\\n",
       "\t8 & Objective-C       &  2.158 & -18.8\\\\\n",
       "\t23 & Groovy            &  0.356 &  -9.8\\\\\n",
       "\t29 & SQL               &  0.000 &  -7.2\\\\\n",
       "\t30 & Assembly language &  0.000 &  -3.0\\\\\n",
       "\\end{tabular}\n"
      ],
      "text/markdown": [
       "\n",
       "A data.frame: 5 × 3\n",
       "\n",
       "| <!--/--> | all_langs &lt;chr&gt; | popularity &lt;dbl&gt; | trend &lt;dbl&gt; |\n",
       "|---|---|---|---|\n",
       "| 2 | Java              | 12.684 | -26.9 |\n",
       "| 8 | Objective-C       |  2.158 | -18.8 |\n",
       "| 23 | Groovy            |  0.356 |  -9.8 |\n",
       "| 29 | SQL               |  0.000 |  -7.2 |\n",
       "| 30 | Assembly language |  0.000 |  -3.0 |\n",
       "\n"
      ],
      "text/plain": [
       "   all_langs         popularity trend\n",
       "2  Java              12.684     -26.9\n",
       "8  Objective-C        2.158     -18.8\n",
       "23 Groovy             0.356      -9.8\n",
       "29 SQL                0.000      -7.2\n",
       "30 Assembly language  0.000      -3.0"
      ]
     },
     "metadata": {},
     "output_type": "display_data"
    }
   ],
   "source": [
    "language_with_neg_trend[order(language_with_neg_trend$trend),]"
   ]
  },
  {
   "cell_type": "markdown",
   "metadata": {},
   "source": [
    "# Report\n",
    "\n",
    "#### From the various data processing and analysis we have done on the given datasets of programming languages. We can come to following conclusions:\n",
    "1. **Python** is the most popular language followed by **Java** and **Javascript**. These top 3 languages covers more than 50% of the market share.\n",
    "2. Even though **Java** is the 2nd most popular language its popularity is steepily plumetting followed by **Objective-C** and **Groovy**.\n",
    "3. Only a minuscule percentage of developer even care to use **Assembly Language**.\n",
    "4. **R** is the most trending language closely followed by **C#** and **C/C++**"
   ]
  }
 ],
 "metadata": {
  "kernelspec": {
   "display_name": "R",
   "language": "R",
   "name": "ir"
  },
  "language_info": {
   "codemirror_mode": "r",
   "file_extension": ".r",
   "mimetype": "text/x-r-source",
   "name": "R",
   "pygments_lexer": "r",
   "version": "4.0.2"
  }
 },
 "nbformat": 4,
 "nbformat_minor": 4
}
