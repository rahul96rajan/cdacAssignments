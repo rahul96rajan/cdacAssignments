{
 "cells": [
  {
   "cell_type": "code",
   "execution_count": 1,
   "metadata": {},
   "outputs": [],
   "source": [
    "from pyspark import SparkContext, SparkConf\n",
    "from pyspark.sql import SparkSession"
   ]
  },
  {
   "cell_type": "code",
   "execution_count": 2,
   "metadata": {},
   "outputs": [],
   "source": [
    "conf = SparkConf().setAppName('SparkApp').setMaster('local')\n",
    "sc = SparkContext(conf=conf)\n",
    "spark = SparkSession(sc)"
   ]
  },
  {
   "cell_type": "code",
   "execution_count": 26,
   "metadata": {},
   "outputs": [],
   "source": [
    "txt_file = sc.textFile(\"./data/sample.txt\")"
   ]
  },
  {
   "cell_type": "code",
   "execution_count": 27,
   "metadata": {},
   "outputs": [
    {
     "name": "stdout",
     "output_type": "stream",
     "text": [
      "['Master Chief Petty Officer John-117 or Master Chief is a fictional character and the protagonist in the Halo multimedia franchise', 'Master Chief is a playable character in the series of science fiction first-person shooter video games Halo', 'Master Chief is a towering supersoldier known as a Spartan raised and trained from childhood for combat']\n"
     ]
    }
   ],
   "source": [
    "print(txt_file.collect())"
   ]
  },
  {
   "cell_type": "markdown",
   "metadata": {},
   "source": [
    "#### Q1: Convert all words in a rdd to lowercase and split the lines of a document using space."
   ]
  },
  {
   "cell_type": "code",
   "execution_count": 28,
   "metadata": {},
   "outputs": [],
   "source": [
    "splitted_line_rdd = txt_file.map(lambda x: x.lower().split())\n",
    "\n",
    "words_rdd = splitted_line_rdd.flatMap(lambda data: [x for x in data])"
   ]
  },
  {
   "cell_type": "code",
   "execution_count": 37,
   "metadata": {},
   "outputs": [
    {
     "name": "stdout",
     "output_type": "stream",
     "text": [
      "['master', 'chief', 'petty', 'officer', 'john-117', 'or', 'master', 'chief', 'is', 'a', 'fictional', 'character', 'and', 'the', 'protagonist', 'in', 'the', 'halo', 'multimedia', 'franchise', 'master', 'chief', 'is', 'a', 'playable', 'character', 'in', 'the', 'series', 'of', 'science', 'fiction', 'first-person', 'shooter', 'video', 'games', 'halo', 'master', 'chief', 'is', 'a', 'towering', 'supersoldier', 'known', 'as', 'a', 'spartan', 'raised', 'and', 'trained', 'from', 'childhood', 'for', 'combat']\n",
      "\n",
      "Size :: 54\n"
     ]
    }
   ],
   "source": [
    "print(words_rdd.collect()) # printing all words\n",
    "print(\"\\nSize :: %d\" % list_of_words.count())"
   ]
  },
  {
   "cell_type": "markdown",
   "metadata": {},
   "source": [
    "#### Q2: Next, I want to remove the words, which are not necessary to analyze this text. We call these words as “stop words”; Stop words do not add much value in a text. For example, “is”, “am”, “are” and “the” are few examples of stop words."
   ]
  },
  {
   "cell_type": "code",
   "execution_count": 34,
   "metadata": {},
   "outputs": [],
   "source": [
    "stop_words_list = sc.textFile(\"./data/stop_words.txt\").collect()\n",
    "no_stopwords_rdd = list_of_words.filter(lambda x: x not in stop_words_list)"
   ]
  },
  {
   "cell_type": "code",
   "execution_count": 36,
   "metadata": {},
   "outputs": [
    {
     "name": "stdout",
     "output_type": "stream",
     "text": [
      "['master', 'chief', 'petty', 'officer', 'john-117,', 'master', 'chief,', 'fictional', 'character', 'protagonist', 'halo', 'multimedia', 'franchise.', 'master', 'chief', 'playable', 'character', 'series', 'science', 'fiction', 'first-person', 'shooter', 'video', 'games', 'halo.', 'master', 'chief', 'towering', 'supersoldier', 'known', 'spartan,', 'raised', 'trained', 'childhood', 'combat.']\n",
      "\n",
      "Size :: 35\n"
     ]
    }
   ],
   "source": [
    "print(no_stopwords_rdd.collect()) # printing only the first 20 words\n",
    "print(\"\\nSize :: %d\" % no_stopwords_rdd.count())"
   ]
  },
  {
   "cell_type": "markdown",
   "metadata": {},
   "source": [
    "#### Q3: After getting the results into `no_stopwords_rdd`, we want to group the words in `no_stopwords_rdd` based on which letters they start with. For example, suppose I want to group each word of `no_stopwords_rdd` based on first 3 characters."
   ]
  },
  {
   "cell_type": "code",
   "execution_count": 51,
   "metadata": {},
   "outputs": [
    {
     "name": "stdout",
     "output_type": "stream",
     "text": [
      " :: Groups and words ::\n"
     ]
    },
    {
     "data": {
      "text/plain": [
       "{'mas': ['master', 'master', 'master', 'master'],\n",
       " 'chi': ['chief', 'chief,', 'chief', 'chief', 'childhood'],\n",
       " 'pet': ['petty'],\n",
       " 'off': ['officer'],\n",
       " 'joh': ['john-117,'],\n",
       " 'fic': ['fictional', 'fiction'],\n",
       " 'cha': ['character', 'character'],\n",
       " 'pro': ['protagonist'],\n",
       " 'hal': ['halo', 'halo.'],\n",
       " 'mul': ['multimedia'],\n",
       " 'fra': ['franchise.'],\n",
       " 'pla': ['playable'],\n",
       " 'ser': ['series'],\n",
       " 'sci': ['science'],\n",
       " 'fir': ['first-person'],\n",
       " 'sho': ['shooter'],\n",
       " 'vid': ['video'],\n",
       " 'gam': ['games'],\n",
       " 'tow': ['towering'],\n",
       " 'sup': ['supersoldier'],\n",
       " 'kno': ['known'],\n",
       " 'spa': ['spartan,'],\n",
       " 'rai': ['raised'],\n",
       " 'tra': ['trained'],\n",
       " 'com': ['combat.']}"
      ]
     },
     "execution_count": 51,
     "metadata": {},
     "output_type": "execute_result"
    }
   ],
   "source": [
    "grouped_rdd = no_stopwords_rdd.groupBy(lambda x: x[:3])\n",
    "\n",
    "print(\" :: Groups and words ::\")\n",
    "{k: list(v) for (k,v) in grouped_list.collect()}"
   ]
  },
  {
   "cell_type": "markdown",
   "metadata": {},
   "source": [
    "#### Q4: What if we want to calculate how many times each word is coming in corpus ?"
   ]
  },
  {
   "cell_type": "code",
   "execution_count": 57,
   "metadata": {},
   "outputs": [
    {
     "name": "stdout",
     "output_type": "stream",
     "text": [
      " :: Groups and number of words ::\n"
     ]
    },
    {
     "data": {
      "text/plain": [
       "{'mas': 4,\n",
       " 'chi': 5,\n",
       " 'pet': 1,\n",
       " 'off': 1,\n",
       " 'joh': 1,\n",
       " 'fic': 2,\n",
       " 'cha': 2,\n",
       " 'pro': 1,\n",
       " 'hal': 2,\n",
       " 'mul': 1,\n",
       " 'fra': 1,\n",
       " 'pla': 1,\n",
       " 'ser': 1,\n",
       " 'sci': 1,\n",
       " 'fir': 1,\n",
       " 'sho': 1,\n",
       " 'vid': 1,\n",
       " 'gam': 1,\n",
       " 'tow': 1,\n",
       " 'sup': 1,\n",
       " 'kno': 1,\n",
       " 'spa': 1,\n",
       " 'rai': 1,\n",
       " 'tra': 1,\n",
       " 'com': 1}"
      ]
     },
     "execution_count": 57,
     "metadata": {},
     "output_type": "execute_result"
    }
   ],
   "source": [
    "print(\" :: Groups and number of words ::\")\n",
    "{k: len(list(v)) for (k,v) in grouped_list.collect()}"
   ]
  },
  {
   "cell_type": "markdown",
   "metadata": {},
   "source": [
    "#### Q5: How do I perform a task (say count the words ‘spark’ and ‘apache’ in rdd3) separatly on each partition and get the output of the task performed in these partition ?"
   ]
  },
  {
   "cell_type": "code",
   "execution_count": null,
   "metadata": {},
   "outputs": [],
   "source": []
  },
  {
   "cell_type": "markdown",
   "metadata": {},
   "source": [
    "#### Q6: What if I want to work with samples instead of full data ?"
   ]
  },
  {
   "cell_type": "code",
   "execution_count": null,
   "metadata": {},
   "outputs": [],
   "source": []
  },
  {
   "cell_type": "markdown",
   "metadata": {},
   "source": [
    "#### Q7: What if I want to create a RDD which contains all the elements (a.k.a. union) of two RDDs ?"
   ]
  },
  {
   "cell_type": "code",
   "execution_count": null,
   "metadata": {},
   "outputs": [],
   "source": []
  },
  {
   "cell_type": "markdown",
   "metadata": {},
   "source": [
    "#### Q8: If we want to join the two pair RDDs based on their key."
   ]
  },
  {
   "cell_type": "code",
   "execution_count": null,
   "metadata": {},
   "outputs": [],
   "source": []
  },
  {
   "cell_type": "markdown",
   "metadata": {},
   "source": [
    "#### Q9: How to calculate distinct elements in a RDD ?"
   ]
  },
  {
   "cell_type": "code",
   "execution_count": null,
   "metadata": {},
   "outputs": [],
   "source": []
  },
  {
   "cell_type": "markdown",
   "metadata": {},
   "source": [
    "#### Q10: What if I want to reduce the number of partition of a RDD and get the result in a new RDD?"
   ]
  },
  {
   "cell_type": "code",
   "execution_count": null,
   "metadata": {},
   "outputs": [],
   "source": []
  },
  {
   "cell_type": "markdown",
   "metadata": {},
   "source": [
    "#### Q11: How do I find out number of parition in RDD ?"
   ]
  },
  {
   "cell_type": "code",
   "execution_count": null,
   "metadata": {},
   "outputs": [],
   "source": []
  },
  {
   "cell_type": "markdown",
   "metadata": {},
   "source": [
    "#### Q13: Count the number of elements in RDD."
   ]
  },
  {
   "cell_type": "code",
   "execution_count": null,
   "metadata": {},
   "outputs": [],
   "source": []
  },
  {
   "cell_type": "markdown",
   "metadata": {},
   "source": [
    "#### Q14: Find the maximum, minimum, sum, variance and standard deviation of “num_rdd”."
   ]
  },
  {
   "cell_type": "code",
   "execution_count": null,
   "metadata": {},
   "outputs": [],
   "source": []
  }
 ],
 "metadata": {
  "kernelspec": {
   "display_name": "defaultvenv",
   "language": "python",
   "name": "defaultvenv"
  },
  "language_info": {
   "codemirror_mode": {
    "name": "ipython",
    "version": 3
   },
   "file_extension": ".py",
   "mimetype": "text/x-python",
   "name": "python",
   "nbconvert_exporter": "python",
   "pygments_lexer": "ipython3",
   "version": "3.8.5"
  }
 },
 "nbformat": 4,
 "nbformat_minor": 4
}
