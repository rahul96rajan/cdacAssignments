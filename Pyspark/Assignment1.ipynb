{
 "cells": [
  {
   "cell_type": "code",
   "execution_count": 1,
   "metadata": {},
   "outputs": [],
   "source": [
    "from pyspark import SparkContext, SparkConf\n",
    "from pyspark.sql import SparkSession"
   ]
  },
  {
   "cell_type": "code",
   "execution_count": 2,
   "metadata": {},
   "outputs": [],
   "source": [
    "conf = SparkConf().setAppName('SparkApp').setMaster('local')\n",
    "sc = SparkContext(conf=conf)\n",
    "spark = SparkSession(sc)"
   ]
  },
  {
   "cell_type": "code",
   "execution_count": 69,
   "metadata": {},
   "outputs": [],
   "source": [
    "txt_file = sc.textFile(\"./data/sample.txt\")"
   ]
  },
  {
   "cell_type": "code",
   "execution_count": 70,
   "metadata": {},
   "outputs": [
    {
     "name": "stdout",
     "output_type": "stream",
     "text": [
      "['Master Chief Petty Officer John-117, or Master Chief, is a fictional character and the protagonist in the Halo multimedia franchise.', 'Master Chief is a playable character in the series of science fiction first-person shooter video games Halo.', 'Master Chief is a towering supersoldier known as a Spartan, raised and trained from childhood for combat.']\n"
     ]
    }
   ],
   "source": [
    "print(txt_file.collect())"
   ]
  },
  {
   "cell_type": "markdown",
   "metadata": {},
   "source": [
    "#### Q1: Convert all words in a rdd to lowercase and split the lines of a document using space."
   ]
  },
  {
   "cell_type": "code",
   "execution_count": 71,
   "metadata": {},
   "outputs": [
    {
     "name": "stdout",
     "output_type": "stream",
     "text": [
      "['master', 'chief', 'petty', 'officer', 'john-117,', 'or', 'master', 'chief,', 'is', 'a', 'fictional', 'character', 'and', 'the', 'protagonist', 'in', 'the', 'halo', 'multimedia', 'franchise.']\n",
      "\n",
      "Size of list :: 54\n"
     ]
    }
   ],
   "source": [
    "splitted_line_list = txt_file.map(lambda x: x.lower().split()).collect()\n",
    "\n",
    "list_of_words = sc.parallelize([item for sublist in splitted_line_list for item in sublist])\n",
    "\n",
    "print(list_of_words.take(20)) # printing only the first 20 words\n",
    "print(\"\\nSize of list :: %d\" % list_of_words.count())"
   ]
  },
  {
   "cell_type": "markdown",
   "metadata": {},
   "source": [
    "#### Q2: Next, I want to remove the words, which are not necessary to analyze this text. We call these words as “stop words”; Stop words do not add much value in a text. For example, “is”, “am”, “are” and “the” are few examples of stop words."
   ]
  },
  {
   "cell_type": "code",
   "execution_count": 72,
   "metadata": {},
   "outputs": [
    {
     "name": "stdout",
     "output_type": "stream",
     "text": [
      "['master', 'chief', 'petty', 'officer', 'john-117,', 'master', 'chief,', 'fictional', 'character', 'protagonist', 'halo', 'multimedia', 'franchise.', 'master', 'chief', 'playable', 'character', 'series', 'science', 'fiction']\n",
      "\n",
      "Size of list :: 35\n"
     ]
    }
   ],
   "source": [
    "stop_words_list = sc.textFile(\"./data/stop_words.txt\").collect()\n",
    "list_without_stopwords = list_of_words.filter(lambda x: x not in stop_words_list)\n",
    "\n",
    "print(list_without_stopwords.take(20)) # printing only the first 20 words\n",
    "print(\"\\nSize of list :: %d\" % list_without_stopwords.count())"
   ]
  },
  {
   "cell_type": "markdown",
   "metadata": {},
   "source": [
    "#### Q3: After getting the results into `list_without_stopwords`, we want to group the words in rdd3 based on which letters they start with. For example, suppose I want to group each word of rdd3 based on first 3 characters."
   ]
  },
  {
   "cell_type": "code",
   "execution_count": 95,
   "metadata": {},
   "outputs": [
    {
     "data": {
      "text/plain": [
       "[['master',\n",
       "  'chief',\n",
       "  'petty',\n",
       "  'officer',\n",
       "  'john-117,',\n",
       "  'master',\n",
       "  'chief,',\n",
       "  'fictional',\n",
       "  'character',\n",
       "  'protagonist',\n",
       "  'halo',\n",
       "  'multimedia',\n",
       "  'franchise.',\n",
       "  'master',\n",
       "  'chief',\n",
       "  'playable',\n",
       "  'character',\n",
       "  'series',\n",
       "  'science',\n",
       "  'fiction',\n",
       "  'first-person',\n",
       "  'shooter',\n",
       "  'video',\n",
       "  'games',\n",
       "  'halo.',\n",
       "  'master',\n",
       "  'chief',\n",
       "  'towering',\n",
       "  'supersoldier',\n",
       "  'known',\n",
       "  'spartan,',\n",
       "  'raised',\n",
       "  'trained',\n",
       "  'childhood',\n",
       "  'combat.']]"
      ]
     },
     "execution_count": 95,
     "metadata": {},
     "output_type": "execute_result"
    }
   ],
   "source": [
    "list_without_stopwords.glom().collect()"
   ]
  },
  {
   "cell_type": "code",
   "execution_count": 98,
   "metadata": {},
   "outputs": [
    {
     "data": {
      "text/plain": [
       "[[('mas', <pyspark.resultiterable.ResultIterable at 0x7f7816b39400>)],\n",
       " [('mas', <pyspark.resultiterable.ResultIterable at 0x7f7816abe370>),\n",
       "  ('chi', <pyspark.resultiterable.ResultIterable at 0x7f7816abe4f0>)],\n",
       " [('mas', <pyspark.resultiterable.ResultIterable at 0x7f7816abe130>),\n",
       "  ('chi', <pyspark.resultiterable.ResultIterable at 0x7f7816abe070>),\n",
       "  ('pet', <pyspark.resultiterable.ResultIterable at 0x7f7816abed00>)],\n",
       " [('mas', <pyspark.resultiterable.ResultIterable at 0x7f7816abe940>),\n",
       "  ('chi', <pyspark.resultiterable.ResultIterable at 0x7f7816abe430>),\n",
       "  ('pet', <pyspark.resultiterable.ResultIterable at 0x7f7816abe580>),\n",
       "  ('off', <pyspark.resultiterable.ResultIterable at 0x7f781776a070>)],\n",
       " [('mas', <pyspark.resultiterable.ResultIterable at 0x7f7816abe760>),\n",
       "  ('chi', <pyspark.resultiterable.ResultIterable at 0x7f7816abeeb0>),\n",
       "  ('pet', <pyspark.resultiterable.ResultIterable at 0x7f7816abe9d0>),\n",
       "  ('off', <pyspark.resultiterable.ResultIterable at 0x7f7816abe910>),\n",
       "  ('joh', <pyspark.resultiterable.ResultIterable at 0x7f7816abeca0>)],\n",
       " [('mas', <pyspark.resultiterable.ResultIterable at 0x7f7816b39430>),\n",
       "  ('chi', <pyspark.resultiterable.ResultIterable at 0x7f7816b39550>),\n",
       "  ('pet', <pyspark.resultiterable.ResultIterable at 0x7f7816b39dc0>),\n",
       "  ('off', <pyspark.resultiterable.ResultIterable at 0x7f7816b39c40>),\n",
       "  ('joh', <pyspark.resultiterable.ResultIterable at 0x7f7816b39c70>),\n",
       "  ('fic', <pyspark.resultiterable.ResultIterable at 0x7f7816b39a60>)],\n",
       " [('mas', <pyspark.resultiterable.ResultIterable at 0x7f7816a98790>),\n",
       "  ('chi', <pyspark.resultiterable.ResultIterable at 0x7f7816a87b80>),\n",
       "  ('pet', <pyspark.resultiterable.ResultIterable at 0x7f7816a877c0>),\n",
       "  ('off', <pyspark.resultiterable.ResultIterable at 0x7f7816a87070>),\n",
       "  ('joh', <pyspark.resultiterable.ResultIterable at 0x7f7816a87340>),\n",
       "  ('fic', <pyspark.resultiterable.ResultIterable at 0x7f7816a87700>),\n",
       "  ('cha', <pyspark.resultiterable.ResultIterable at 0x7f7816a87400>)],\n",
       " [('mas', <pyspark.resultiterable.ResultIterable at 0x7f7816aadeb0>),\n",
       "  ('chi', <pyspark.resultiterable.ResultIterable at 0x7f7816aad0a0>),\n",
       "  ('pet', <pyspark.resultiterable.ResultIterable at 0x7f7816aad9d0>),\n",
       "  ('off', <pyspark.resultiterable.ResultIterable at 0x7f7816a88b50>),\n",
       "  ('joh', <pyspark.resultiterable.ResultIterable at 0x7f7816a88e50>),\n",
       "  ('fic', <pyspark.resultiterable.ResultIterable at 0x7f7816a88280>),\n",
       "  ('cha', <pyspark.resultiterable.ResultIterable at 0x7f7816a88610>),\n",
       "  ('pro', <pyspark.resultiterable.ResultIterable at 0x7f7816a88850>)],\n",
       " [('mas', <pyspark.resultiterable.ResultIterable at 0x7f78167b27c0>),\n",
       "  ('chi', <pyspark.resultiterable.ResultIterable at 0x7f78167b26d0>),\n",
       "  ('pet', <pyspark.resultiterable.ResultIterable at 0x7f78167b2cd0>),\n",
       "  ('off', <pyspark.resultiterable.ResultIterable at 0x7f7816b0a130>),\n",
       "  ('joh', <pyspark.resultiterable.ResultIterable at 0x7f7816b0a100>),\n",
       "  ('fic', <pyspark.resultiterable.ResultIterable at 0x7f7816b0a610>),\n",
       "  ('cha', <pyspark.resultiterable.ResultIterable at 0x7f7816b0a160>),\n",
       "  ('pro', <pyspark.resultiterable.ResultIterable at 0x7f7816b0a070>),\n",
       "  ('hal', <pyspark.resultiterable.ResultIterable at 0x7f7816b0a730>)],\n",
       " [('mas', <pyspark.resultiterable.ResultIterable at 0x7f781776a430>),\n",
       "  ('chi', <pyspark.resultiterable.ResultIterable at 0x7f781776a3a0>),\n",
       "  ('pet', <pyspark.resultiterable.ResultIterable at 0x7f781776a370>),\n",
       "  ('off', <pyspark.resultiterable.ResultIterable at 0x7f781776a550>),\n",
       "  ('joh', <pyspark.resultiterable.ResultIterable at 0x7f781776a520>),\n",
       "  ('fic', <pyspark.resultiterable.ResultIterable at 0x7f781776a5b0>),\n",
       "  ('cha', <pyspark.resultiterable.ResultIterable at 0x7f781776a640>),\n",
       "  ('pro', <pyspark.resultiterable.ResultIterable at 0x7f781776a6a0>),\n",
       "  ('hal', <pyspark.resultiterable.ResultIterable at 0x7f781776a700>),\n",
       "  ('mul', <pyspark.resultiterable.ResultIterable at 0x7f781776a790>)],\n",
       " [('mas', <pyspark.resultiterable.ResultIterable at 0x7f781776ad90>),\n",
       "  ('chi', <pyspark.resultiterable.ResultIterable at 0x7f781776ad00>),\n",
       "  ('pet', <pyspark.resultiterable.ResultIterable at 0x7f781776acd0>),\n",
       "  ('off', <pyspark.resultiterable.ResultIterable at 0x7f781776aeb0>),\n",
       "  ('joh', <pyspark.resultiterable.ResultIterable at 0x7f781776ae80>),\n",
       "  ('fic', <pyspark.resultiterable.ResultIterable at 0x7f781776af10>),\n",
       "  ('cha', <pyspark.resultiterable.ResultIterable at 0x7f781776afa0>),\n",
       "  ('pro', <pyspark.resultiterable.ResultIterable at 0x7f781776e040>),\n",
       "  ('hal', <pyspark.resultiterable.ResultIterable at 0x7f781776e0a0>),\n",
       "  ('mul', <pyspark.resultiterable.ResultIterable at 0x7f781776e130>),\n",
       "  ('fra', <pyspark.resultiterable.ResultIterable at 0x7f781776e190>)],\n",
       " [('mas', <pyspark.resultiterable.ResultIterable at 0x7f781776aac0>),\n",
       "  ('chi', <pyspark.resultiterable.ResultIterable at 0x7f781776aa00>),\n",
       "  ('pet', <pyspark.resultiterable.ResultIterable at 0x7f781776a8b0>),\n",
       "  ('off', <pyspark.resultiterable.ResultIterable at 0x7f781776a8e0>),\n",
       "  ('joh', <pyspark.resultiterable.ResultIterable at 0x7f781776ad30>),\n",
       "  ('fic', <pyspark.resultiterable.ResultIterable at 0x7f781776a7f0>),\n",
       "  ('cha', <pyspark.resultiterable.ResultIterable at 0x7f781776a310>),\n",
       "  ('pro', <pyspark.resultiterable.ResultIterable at 0x7f781776a130>),\n",
       "  ('hal', <pyspark.resultiterable.ResultIterable at 0x7f781776a1f0>),\n",
       "  ('mul', <pyspark.resultiterable.ResultIterable at 0x7f781776a100>),\n",
       "  ('fra', <pyspark.resultiterable.ResultIterable at 0x7f781776a3d0>),\n",
       "  ('pla', <pyspark.resultiterable.ResultIterable at 0x7f781711c400>)],\n",
       " [('mas', <pyspark.resultiterable.ResultIterable at 0x7f7816a87d90>),\n",
       "  ('chi', <pyspark.resultiterable.ResultIterable at 0x7f7816a87100>),\n",
       "  ('pet', <pyspark.resultiterable.ResultIterable at 0x7f7816a87580>),\n",
       "  ('off', <pyspark.resultiterable.ResultIterable at 0x7f7816a87bb0>),\n",
       "  ('joh', <pyspark.resultiterable.ResultIterable at 0x7f7816a87af0>),\n",
       "  ('fic', <pyspark.resultiterable.ResultIterable at 0x7f7816a872b0>),\n",
       "  ('cha', <pyspark.resultiterable.ResultIterable at 0x7f7816a87fa0>),\n",
       "  ('pro', <pyspark.resultiterable.ResultIterable at 0x7f7816a87640>),\n",
       "  ('hal', <pyspark.resultiterable.ResultIterable at 0x7f7816a87cd0>),\n",
       "  ('mul', <pyspark.resultiterable.ResultIterable at 0x7f7816a87e50>),\n",
       "  ('fra', <pyspark.resultiterable.ResultIterable at 0x7f7816a984c0>),\n",
       "  ('pla', <pyspark.resultiterable.ResultIterable at 0x7f7816aafaf0>),\n",
       "  ('ser', <pyspark.resultiterable.ResultIterable at 0x7f7816ab69d0>)],\n",
       " [('mas', <pyspark.resultiterable.ResultIterable at 0x7f7816b39fa0>),\n",
       "  ('chi', <pyspark.resultiterable.ResultIterable at 0x7f7816b39b20>),\n",
       "  ('pet', <pyspark.resultiterable.ResultIterable at 0x7f7816b395b0>),\n",
       "  ('off', <pyspark.resultiterable.ResultIterable at 0x7f7816b39ee0>),\n",
       "  ('joh', <pyspark.resultiterable.ResultIterable at 0x7f7816b39a30>),\n",
       "  ('fic', <pyspark.resultiterable.ResultIterable at 0x7f7816abe5e0>),\n",
       "  ('cha', <pyspark.resultiterable.ResultIterable at 0x7f7816abe1c0>),\n",
       "  ('pro', <pyspark.resultiterable.ResultIterable at 0x7f7816abed60>),\n",
       "  ('hal', <pyspark.resultiterable.ResultIterable at 0x7f7816abeac0>),\n",
       "  ('mul', <pyspark.resultiterable.ResultIterable at 0x7f7816abea30>),\n",
       "  ('fra', <pyspark.resultiterable.ResultIterable at 0x7f7816abe670>),\n",
       "  ('pla', <pyspark.resultiterable.ResultIterable at 0x7f7816abee20>),\n",
       "  ('ser', <pyspark.resultiterable.ResultIterable at 0x7f7816abe6a0>),\n",
       "  ('sci', <pyspark.resultiterable.ResultIterable at 0x7f7816abe2e0>)],\n",
       " [('mas', <pyspark.resultiterable.ResultIterable at 0x7f781776e370>),\n",
       "  ('chi', <pyspark.resultiterable.ResultIterable at 0x7f781776e340>),\n",
       "  ('pet', <pyspark.resultiterable.ResultIterable at 0x7f781776e310>),\n",
       "  ('off', <pyspark.resultiterable.ResultIterable at 0x7f781776e520>),\n",
       "  ('joh', <pyspark.resultiterable.ResultIterable at 0x7f781776e4f0>),\n",
       "  ('fic', <pyspark.resultiterable.ResultIterable at 0x7f781776e580>),\n",
       "  ('cha', <pyspark.resultiterable.ResultIterable at 0x7f781776e610>),\n",
       "  ('pro', <pyspark.resultiterable.ResultIterable at 0x7f781776e670>),\n",
       "  ('hal', <pyspark.resultiterable.ResultIterable at 0x7f781776e6d0>),\n",
       "  ('mul', <pyspark.resultiterable.ResultIterable at 0x7f781776e760>),\n",
       "  ('fra', <pyspark.resultiterable.ResultIterable at 0x7f781776e7c0>),\n",
       "  ('pla', <pyspark.resultiterable.ResultIterable at 0x7f781776e820>),\n",
       "  ('ser', <pyspark.resultiterable.ResultIterable at 0x7f781776e880>),\n",
       "  ('sci', <pyspark.resultiterable.ResultIterable at 0x7f781776e8e0>),\n",
       "  ('fir', <pyspark.resultiterable.ResultIterable at 0x7f781776e940>)],\n",
       " [('mas', <pyspark.resultiterable.ResultIterable at 0x7f781776ef40>),\n",
       "  ('chi', <pyspark.resultiterable.ResultIterable at 0x7f781776eeb0>),\n",
       "  ('pet', <pyspark.resultiterable.ResultIterable at 0x7f781776ee80>),\n",
       "  ('off', <pyspark.resultiterable.ResultIterable at 0x7f781776efd0>),\n",
       "  ('joh', <pyspark.resultiterable.ResultIterable at 0x7f7817773070>),\n",
       "  ('fic', <pyspark.resultiterable.ResultIterable at 0x7f78177730d0>),\n",
       "  ('cha', <pyspark.resultiterable.ResultIterable at 0x7f7817773160>),\n",
       "  ('pro', <pyspark.resultiterable.ResultIterable at 0x7f78177731f0>),\n",
       "  ('hal', <pyspark.resultiterable.ResultIterable at 0x7f7817773250>),\n",
       "  ('mul', <pyspark.resultiterable.ResultIterable at 0x7f78177732e0>),\n",
       "  ('fra', <pyspark.resultiterable.ResultIterable at 0x7f7817773340>),\n",
       "  ('pla', <pyspark.resultiterable.ResultIterable at 0x7f78177733a0>),\n",
       "  ('ser', <pyspark.resultiterable.ResultIterable at 0x7f7817773400>),\n",
       "  ('sci', <pyspark.resultiterable.ResultIterable at 0x7f7817773460>),\n",
       "  ('fir', <pyspark.resultiterable.ResultIterable at 0x7f78177734c0>),\n",
       "  ('sho', <pyspark.resultiterable.ResultIterable at 0x7f7817773520>)],\n",
       " [('mas', <pyspark.resultiterable.ResultIterable at 0x7f7817773b20>),\n",
       "  ('chi', <pyspark.resultiterable.ResultIterable at 0x7f7817773a90>),\n",
       "  ('pet', <pyspark.resultiterable.ResultIterable at 0x7f7817773a60>),\n",
       "  ('off', <pyspark.resultiterable.ResultIterable at 0x7f7817773c40>),\n",
       "  ('joh', <pyspark.resultiterable.ResultIterable at 0x7f7817773c10>),\n",
       "  ('fic', <pyspark.resultiterable.ResultIterable at 0x7f7817773ca0>),\n",
       "  ('cha', <pyspark.resultiterable.ResultIterable at 0x7f7817773d30>),\n",
       "  ('pro', <pyspark.resultiterable.ResultIterable at 0x7f7817773d90>),\n",
       "  ('hal', <pyspark.resultiterable.ResultIterable at 0x7f7817773df0>),\n",
       "  ('mul', <pyspark.resultiterable.ResultIterable at 0x7f7817773e80>),\n",
       "  ('fra', <pyspark.resultiterable.ResultIterable at 0x7f7817773ee0>),\n",
       "  ('pla', <pyspark.resultiterable.ResultIterable at 0x7f7817773f40>),\n",
       "  ('ser', <pyspark.resultiterable.ResultIterable at 0x7f7817773fa0>),\n",
       "  ('sci', <pyspark.resultiterable.ResultIterable at 0x7f7817775040>),\n",
       "  ('fir', <pyspark.resultiterable.ResultIterable at 0x7f78177750a0>),\n",
       "  ('sho', <pyspark.resultiterable.ResultIterable at 0x7f7817775100>),\n",
       "  ('vid', <pyspark.resultiterable.ResultIterable at 0x7f7817775160>)],\n",
       " [('mas', <pyspark.resultiterable.ResultIterable at 0x7f7816abe4c0>),\n",
       "  ('chi', <pyspark.resultiterable.ResultIterable at 0x7f7816abe280>),\n",
       "  ('pet', <pyspark.resultiterable.ResultIterable at 0x7f7816abea00>),\n",
       "  ('off', <pyspark.resultiterable.ResultIterable at 0x7f7816abe3a0>),\n",
       "  ('joh', <pyspark.resultiterable.ResultIterable at 0x7f7816abe3d0>),\n",
       "  ('fic', <pyspark.resultiterable.ResultIterable at 0x7f7816abe160>),\n",
       "  ('cha', <pyspark.resultiterable.ResultIterable at 0x7f7816abe5b0>),\n",
       "  ('pro', <pyspark.resultiterable.ResultIterable at 0x7f7816abe520>),\n",
       "  ('hal', <pyspark.resultiterable.ResultIterable at 0x7f781776ed00>),\n",
       "  ('mul', <pyspark.resultiterable.ResultIterable at 0x7f781776ee20>),\n",
       "  ('fra', <pyspark.resultiterable.ResultIterable at 0x7f781776edf0>),\n",
       "  ('pla', <pyspark.resultiterable.ResultIterable at 0x7f781776edc0>),\n",
       "  ('ser', <pyspark.resultiterable.ResultIterable at 0x7f781776e9a0>),\n",
       "  ('sci', <pyspark.resultiterable.ResultIterable at 0x7f781776eb20>),\n",
       "  ('fir', <pyspark.resultiterable.ResultIterable at 0x7f781776eca0>),\n",
       "  ('sho', <pyspark.resultiterable.ResultIterable at 0x7f781776ec10>),\n",
       "  ('vid', <pyspark.resultiterable.ResultIterable at 0x7f781776ebb0>),\n",
       "  ('gam', <pyspark.resultiterable.ResultIterable at 0x7f781776ea60>)],\n",
       " [('mas', <pyspark.resultiterable.ResultIterable at 0x7f7816b39940>),\n",
       "  ('chi', <pyspark.resultiterable.ResultIterable at 0x7f7816b398b0>),\n",
       "  ('pet', <pyspark.resultiterable.ResultIterable at 0x7f7816b39820>),\n",
       "  ('off', <pyspark.resultiterable.ResultIterable at 0x7f7816b39370>),\n",
       "  ('joh', <pyspark.resultiterable.ResultIterable at 0x7f7816b39c10>),\n",
       "  ('fic', <pyspark.resultiterable.ResultIterable at 0x7f7816b392b0>),\n",
       "  ('cha', <pyspark.resultiterable.ResultIterable at 0x7f7816aad9a0>),\n",
       "  ('pro', <pyspark.resultiterable.ResultIterable at 0x7f7816799250>),\n",
       "  ('hal', <pyspark.resultiterable.ResultIterable at 0x7f7816a80250>),\n",
       "  ('mul', <pyspark.resultiterable.ResultIterable at 0x7f7816a805e0>),\n",
       "  ('fra', <pyspark.resultiterable.ResultIterable at 0x7f781710c340>),\n",
       "  ('pla', <pyspark.resultiterable.ResultIterable at 0x7f7817110700>),\n",
       "  ('ser', <pyspark.resultiterable.ResultIterable at 0x7f7817110820>),\n",
       "  ('sci', <pyspark.resultiterable.ResultIterable at 0x7f7816790460>),\n",
       "  ('fir', <pyspark.resultiterable.ResultIterable at 0x7f78167902e0>),\n",
       "  ('sho', <pyspark.resultiterable.ResultIterable at 0x7f7816a88fd0>),\n",
       "  ('vid', <pyspark.resultiterable.ResultIterable at 0x7f7816a88700>),\n",
       "  ('gam', <pyspark.resultiterable.ResultIterable at 0x7f7816a888e0>),\n",
       "  ('tow', <pyspark.resultiterable.ResultIterable at 0x7f781678ffd0>)],\n",
       " [('mas', <pyspark.resultiterable.ResultIterable at 0x7f7817775280>),\n",
       "  ('chi', <pyspark.resultiterable.ResultIterable at 0x7f7817775220>),\n",
       "  ('pet', <pyspark.resultiterable.ResultIterable at 0x7f78177751f0>),\n",
       "  ('off', <pyspark.resultiterable.ResultIterable at 0x7f78177753a0>),\n",
       "  ('joh', <pyspark.resultiterable.ResultIterable at 0x7f7817775370>),\n",
       "  ('fic', <pyspark.resultiterable.ResultIterable at 0x7f7817775340>),\n",
       "  ('cha', <pyspark.resultiterable.ResultIterable at 0x7f7817775490>),\n",
       "  ('pro', <pyspark.resultiterable.ResultIterable at 0x7f78177754f0>),\n",
       "  ('hal', <pyspark.resultiterable.ResultIterable at 0x7f7817775550>),\n",
       "  ('mul', <pyspark.resultiterable.ResultIterable at 0x7f78177755e0>),\n",
       "  ('fra', <pyspark.resultiterable.ResultIterable at 0x7f7817775640>),\n",
       "  ('pla', <pyspark.resultiterable.ResultIterable at 0x7f78177756a0>),\n",
       "  ('ser', <pyspark.resultiterable.ResultIterable at 0x7f7817775700>),\n",
       "  ('sci', <pyspark.resultiterable.ResultIterable at 0x7f7817775760>),\n",
       "  ('fir', <pyspark.resultiterable.ResultIterable at 0x7f78177757c0>),\n",
       "  ('sho', <pyspark.resultiterable.ResultIterable at 0x7f7817775820>),\n",
       "  ('vid', <pyspark.resultiterable.ResultIterable at 0x7f7817775880>),\n",
       "  ('gam', <pyspark.resultiterable.ResultIterable at 0x7f78177758e0>),\n",
       "  ('tow', <pyspark.resultiterable.ResultIterable at 0x7f7817775940>),\n",
       "  ('sup', <pyspark.resultiterable.ResultIterable at 0x7f78177759a0>)],\n",
       " [('mas', <pyspark.resultiterable.ResultIterable at 0x7f7817775fa0>),\n",
       "  ('chi', <pyspark.resultiterable.ResultIterable at 0x7f7817775f10>),\n",
       "  ('pet', <pyspark.resultiterable.ResultIterable at 0x7f7817775ee0>),\n",
       "  ('off', <pyspark.resultiterable.ResultIterable at 0x7f781774b0a0>),\n",
       "  ('joh', <pyspark.resultiterable.ResultIterable at 0x7f781774b0d0>),\n",
       "  ('fic', <pyspark.resultiterable.ResultIterable at 0x7f781774b130>),\n",
       "  ('cha', <pyspark.resultiterable.ResultIterable at 0x7f781774b1c0>),\n",
       "  ('pro', <pyspark.resultiterable.ResultIterable at 0x7f781774b250>),\n",
       "  ('hal', <pyspark.resultiterable.ResultIterable at 0x7f781774b2b0>),\n",
       "  ('mul', <pyspark.resultiterable.ResultIterable at 0x7f781774b340>),\n",
       "  ('fra', <pyspark.resultiterable.ResultIterable at 0x7f781774b3a0>),\n",
       "  ('pla', <pyspark.resultiterable.ResultIterable at 0x7f781774b400>),\n",
       "  ('ser', <pyspark.resultiterable.ResultIterable at 0x7f781774b460>),\n",
       "  ('sci', <pyspark.resultiterable.ResultIterable at 0x7f781774b4c0>),\n",
       "  ('fir', <pyspark.resultiterable.ResultIterable at 0x7f781774b520>),\n",
       "  ('sho', <pyspark.resultiterable.ResultIterable at 0x7f781774b580>),\n",
       "  ('vid', <pyspark.resultiterable.ResultIterable at 0x7f781774b5e0>),\n",
       "  ('gam', <pyspark.resultiterable.ResultIterable at 0x7f781774b640>),\n",
       "  ('tow', <pyspark.resultiterable.ResultIterable at 0x7f781774b6a0>),\n",
       "  ('sup', <pyspark.resultiterable.ResultIterable at 0x7f781774b700>),\n",
       "  ('kno', <pyspark.resultiterable.ResultIterable at 0x7f781774b760>)],\n",
       " [('mas', <pyspark.resultiterable.ResultIterable at 0x7f781774bd60>),\n",
       "  ('chi', <pyspark.resultiterable.ResultIterable at 0x7f781774bcd0>),\n",
       "  ('pet', <pyspark.resultiterable.ResultIterable at 0x7f781774bca0>),\n",
       "  ('off', <pyspark.resultiterable.ResultIterable at 0x7f781774be80>),\n",
       "  ('joh', <pyspark.resultiterable.ResultIterable at 0x7f781774be50>),\n",
       "  ('fic', <pyspark.resultiterable.ResultIterable at 0x7f781774bee0>),\n",
       "  ('cha', <pyspark.resultiterable.ResultIterable at 0x7f781774bf70>),\n",
       "  ('pro', <pyspark.resultiterable.ResultIterable at 0x7f781774bfd0>),\n",
       "  ('hal', <pyspark.resultiterable.ResultIterable at 0x7f781774c070>),\n",
       "  ('mul', <pyspark.resultiterable.ResultIterable at 0x7f781774c100>),\n",
       "  ('fra', <pyspark.resultiterable.ResultIterable at 0x7f781774c160>),\n",
       "  ('pla', <pyspark.resultiterable.ResultIterable at 0x7f781774c1c0>),\n",
       "  ('ser', <pyspark.resultiterable.ResultIterable at 0x7f781774c220>),\n",
       "  ('sci', <pyspark.resultiterable.ResultIterable at 0x7f781774c280>),\n",
       "  ('fir', <pyspark.resultiterable.ResultIterable at 0x7f781774c2e0>),\n",
       "  ('sho', <pyspark.resultiterable.ResultIterable at 0x7f781774c340>),\n",
       "  ('vid', <pyspark.resultiterable.ResultIterable at 0x7f781774c3a0>),\n",
       "  ('gam', <pyspark.resultiterable.ResultIterable at 0x7f781774c400>),\n",
       "  ('tow', <pyspark.resultiterable.ResultIterable at 0x7f781774c460>),\n",
       "  ('sup', <pyspark.resultiterable.ResultIterable at 0x7f781774c4c0>),\n",
       "  ('kno', <pyspark.resultiterable.ResultIterable at 0x7f781774c520>),\n",
       "  ('spa', <pyspark.resultiterable.ResultIterable at 0x7f781774c580>)],\n",
       " [('mas', <pyspark.resultiterable.ResultIterable at 0x7f7817775a90>),\n",
       "  ('chi', <pyspark.resultiterable.ResultIterable at 0x7f7817775e50>),\n",
       "  ('pet', <pyspark.resultiterable.ResultIterable at 0x7f7817775e20>),\n",
       "  ('off', <pyspark.resultiterable.ResultIterable at 0x7f7817775d30>),\n",
       "  ('joh', <pyspark.resultiterable.ResultIterable at 0x7f7817775b80>),\n",
       "  ('fic', <pyspark.resultiterable.ResultIterable at 0x7f7817775d00>),\n",
       "  ('cha', <pyspark.resultiterable.ResultIterable at 0x7f7817775b50>),\n",
       "  ('pro', <pyspark.resultiterable.ResultIterable at 0x7f7817775ac0>),\n",
       "  ('hal', <pyspark.resultiterable.ResultIterable at 0x7f7817775af0>),\n",
       "  ('mul', <pyspark.resultiterable.ResultIterable at 0x7f7817775a30>),\n",
       "  ('fra', <pyspark.resultiterable.ResultIterable at 0x7f78167a7070>),\n",
       "  ('pla', <pyspark.resultiterable.ResultIterable at 0x7f781776ac10>),\n",
       "  ('ser', <pyspark.resultiterable.ResultIterable at 0x7f781776a160>),\n",
       "  ('sci', <pyspark.resultiterable.ResultIterable at 0x7f781776ac70>),\n",
       "  ('fir', <pyspark.resultiterable.ResultIterable at 0x7f781776a9d0>),\n",
       "  ('sho', <pyspark.resultiterable.ResultIterable at 0x7f781776aca0>),\n",
       "  ('vid', <pyspark.resultiterable.ResultIterable at 0x7f781776abb0>),\n",
       "  ('gam', <pyspark.resultiterable.ResultIterable at 0x7f781776ab50>),\n",
       "  ('tow', <pyspark.resultiterable.ResultIterable at 0x7f7816b0a6d0>),\n",
       "  ('sup', <pyspark.resultiterable.ResultIterable at 0x7f7816b0a550>),\n",
       "  ('kno', <pyspark.resultiterable.ResultIterable at 0x7f7816b0a760>),\n",
       "  ('spa', <pyspark.resultiterable.ResultIterable at 0x7f7816b0a7c0>),\n",
       "  ('rai', <pyspark.resultiterable.ResultIterable at 0x7f7816b0a790>)],\n",
       " [('mas', <pyspark.resultiterable.ResultIterable at 0x7f781776e2e0>),\n",
       "  ('chi', <pyspark.resultiterable.ResultIterable at 0x7f781776e280>),\n",
       "  ('pet', <pyspark.resultiterable.ResultIterable at 0x7f7816abe310>),\n",
       "  ('off', <pyspark.resultiterable.ResultIterable at 0x7f7817773610>),\n",
       "  ('joh', <pyspark.resultiterable.ResultIterable at 0x7f7817773580>),\n",
       "  ('fic', <pyspark.resultiterable.ResultIterable at 0x7f78177737c0>),\n",
       "  ('cha', <pyspark.resultiterable.ResultIterable at 0x7f78177735b0>),\n",
       "  ('pro', <pyspark.resultiterable.ResultIterable at 0x7f78177739d0>),\n",
       "  ('hal', <pyspark.resultiterable.ResultIterable at 0x7f78177736d0>),\n",
       "  ('mul', <pyspark.resultiterable.ResultIterable at 0x7f7817773760>),\n",
       "  ('fra', <pyspark.resultiterable.ResultIterable at 0x7f7817773700>),\n",
       "  ('pla', <pyspark.resultiterable.ResultIterable at 0x7f7817773910>),\n",
       "  ('ser', <pyspark.resultiterable.ResultIterable at 0x7f7817773820>),\n",
       "  ('sci', <pyspark.resultiterable.ResultIterable at 0x7f7817773a30>),\n",
       "  ('fir', <pyspark.resultiterable.ResultIterable at 0x7f781774c640>),\n",
       "  ('sho', <pyspark.resultiterable.ResultIterable at 0x7f781774c670>),\n",
       "  ('vid', <pyspark.resultiterable.ResultIterable at 0x7f781774c820>),\n",
       "  ('gam', <pyspark.resultiterable.ResultIterable at 0x7f781774c700>),\n",
       "  ('tow', <pyspark.resultiterable.ResultIterable at 0x7f781774c790>),\n",
       "  ('sup', <pyspark.resultiterable.ResultIterable at 0x7f781774c850>),\n",
       "  ('kno', <pyspark.resultiterable.ResultIterable at 0x7f781774c7c0>),\n",
       "  ('spa', <pyspark.resultiterable.ResultIterable at 0x7f781774c910>),\n",
       "  ('rai', <pyspark.resultiterable.ResultIterable at 0x7f781774c880>),\n",
       "  ('tra', <pyspark.resultiterable.ResultIterable at 0x7f781774c940>)],\n",
       " [('mas', <pyspark.resultiterable.ResultIterable at 0x7f781774cf70>),\n",
       "  ('chi', <pyspark.resultiterable.ResultIterable at 0x7f781774cee0>),\n",
       "  ('pet', <pyspark.resultiterable.ResultIterable at 0x7f781774ceb0>),\n",
       "  ('off', <pyspark.resultiterable.ResultIterable at 0x7f78177490d0>),\n",
       "  ('joh', <pyspark.resultiterable.ResultIterable at 0x7f78177490a0>),\n",
       "  ('fic', <pyspark.resultiterable.ResultIterable at 0x7f7817749130>),\n",
       "  ('cha', <pyspark.resultiterable.ResultIterable at 0x7f78177491c0>),\n",
       "  ('pro', <pyspark.resultiterable.ResultIterable at 0x7f7817749220>),\n",
       "  ('hal', <pyspark.resultiterable.ResultIterable at 0x7f7817749280>),\n",
       "  ('mul', <pyspark.resultiterable.ResultIterable at 0x7f7817749310>),\n",
       "  ('fra', <pyspark.resultiterable.ResultIterable at 0x7f7817749370>),\n",
       "  ('pla', <pyspark.resultiterable.ResultIterable at 0x7f78177493d0>),\n",
       "  ('ser', <pyspark.resultiterable.ResultIterable at 0x7f7817749430>),\n",
       "  ('sci', <pyspark.resultiterable.ResultIterable at 0x7f7817749490>),\n",
       "  ('fir', <pyspark.resultiterable.ResultIterable at 0x7f78177494f0>),\n",
       "  ('sho', <pyspark.resultiterable.ResultIterable at 0x7f7817749550>),\n",
       "  ('vid', <pyspark.resultiterable.ResultIterable at 0x7f78177495b0>),\n",
       "  ('gam', <pyspark.resultiterable.ResultIterable at 0x7f7817749610>),\n",
       "  ('tow', <pyspark.resultiterable.ResultIterable at 0x7f7817749670>),\n",
       "  ('sup', <pyspark.resultiterable.ResultIterable at 0x7f78177496d0>),\n",
       "  ('kno', <pyspark.resultiterable.ResultIterable at 0x7f7817749730>),\n",
       "  ('spa', <pyspark.resultiterable.ResultIterable at 0x7f7817749790>),\n",
       "  ('rai', <pyspark.resultiterable.ResultIterable at 0x7f78177497f0>),\n",
       "  ('tra', <pyspark.resultiterable.ResultIterable at 0x7f7817749850>),\n",
       "  ('com', <pyspark.resultiterable.ResultIterable at 0x7f78177498b0>)]]"
      ]
     },
     "execution_count": 98,
     "metadata": {},
     "output_type": "execute_result"
    }
   ],
   "source": [
    "grouped_list = list_without_stopwords.groupBy(lambda x: x[:3])\n",
    "# [(k, list(v)) for (k, v) in grouped_list.take(x) for x in range(1, grouped_list.count()+1)]\n",
    "# grouped_list.take(1)\n",
    "[grouped_list.take(x) for x in range(1, grouped_list.count()+1)]"
   ]
  },
  {
   "cell_type": "markdown",
   "metadata": {},
   "source": [
    "#### Q4: What if we want to calculate how many times each word is coming in corpus ?"
   ]
  },
  {
   "cell_type": "code",
   "execution_count": null,
   "metadata": {},
   "outputs": [],
   "source": []
  },
  {
   "cell_type": "markdown",
   "metadata": {},
   "source": [
    "#### Q5: How do I perform a task (say count the words ‘spark’ and ‘apache’ in rdd3) separatly on each partition and get the output of the task performed in these partition ?"
   ]
  },
  {
   "cell_type": "code",
   "execution_count": null,
   "metadata": {},
   "outputs": [],
   "source": []
  },
  {
   "cell_type": "markdown",
   "metadata": {},
   "source": [
    "#### Q6: What if I want to work with samples instead of full data ?"
   ]
  },
  {
   "cell_type": "code",
   "execution_count": null,
   "metadata": {},
   "outputs": [],
   "source": []
  },
  {
   "cell_type": "markdown",
   "metadata": {},
   "source": [
    "#### Q7: What if I want to create a RDD which contains all the elements (a.k.a. union) of two RDDs ?"
   ]
  },
  {
   "cell_type": "code",
   "execution_count": null,
   "metadata": {},
   "outputs": [],
   "source": []
  },
  {
   "cell_type": "markdown",
   "metadata": {},
   "source": [
    "#### Q8: If we want to join the two pair RDDs based on their key."
   ]
  },
  {
   "cell_type": "code",
   "execution_count": null,
   "metadata": {},
   "outputs": [],
   "source": []
  },
  {
   "cell_type": "markdown",
   "metadata": {},
   "source": [
    "#### Q9: How to calculate distinct elements in a RDD ?"
   ]
  },
  {
   "cell_type": "code",
   "execution_count": null,
   "metadata": {},
   "outputs": [],
   "source": []
  },
  {
   "cell_type": "markdown",
   "metadata": {},
   "source": [
    "#### Q10: What if I want to reduce the number of partition of a RDD and get the result in a new RDD?"
   ]
  },
  {
   "cell_type": "code",
   "execution_count": null,
   "metadata": {},
   "outputs": [],
   "source": []
  },
  {
   "cell_type": "markdown",
   "metadata": {},
   "source": [
    "#### Q11: How do I find out number of parition in RDD ?"
   ]
  },
  {
   "cell_type": "code",
   "execution_count": null,
   "metadata": {},
   "outputs": [],
   "source": []
  },
  {
   "cell_type": "markdown",
   "metadata": {},
   "source": [
    "#### Q13: Count the number of elements in RDD."
   ]
  },
  {
   "cell_type": "code",
   "execution_count": null,
   "metadata": {},
   "outputs": [],
   "source": []
  },
  {
   "cell_type": "markdown",
   "metadata": {},
   "source": [
    "#### Q14: Find the maximum, minimum, sum, variance and standard deviation of “num_rdd”."
   ]
  },
  {
   "cell_type": "code",
   "execution_count": null,
   "metadata": {},
   "outputs": [],
   "source": []
  }
 ],
 "metadata": {
  "kernelspec": {
   "display_name": "defaultvenv",
   "language": "python",
   "name": "defaultvenv"
  },
  "language_info": {
   "codemirror_mode": {
    "name": "ipython",
    "version": 3
   },
   "file_extension": ".py",
   "mimetype": "text/x-python",
   "name": "python",
   "nbconvert_exporter": "python",
   "pygments_lexer": "ipython3",
   "version": "3.8.5"
  }
 },
 "nbformat": 4,
 "nbformat_minor": 4
}
